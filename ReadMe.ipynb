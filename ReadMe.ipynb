{
 "cells": [
  {
   "cell_type": "markdown",
   "metadata": {},
   "source": [
    "#                                           Online Loan Prediction "
   ]
  },
  {
   "cell_type": "markdown",
   "metadata": {},
   "source": [
    "# 1. Business Problem\n",
    "\n",
    " * Predicting the most probable customers who likely to get personal loan from the existing customer base of the Bank. \n"
   ]
  },
  {
   "cell_type": "markdown",
   "metadata": {},
   "source": [
    "# 2. Features \n",
    "\n",
    " * Customer Age.\n",
    " * Bank Age when apply loan. \n",
    " * Gender.\n",
    " * Maritial Ststus.\n",
    " * Customer type (Student. Businessman ...etc).\n",
    " * Credit card flag (Yes /No).\n",
    " * Credit card behaviour. \n",
    " * Previous Loans status. If yes loan amount with duration and amount.\n",
    " * Wishwa loan facility flag( Yes/No). If yes loan amount with duration and amount \n",
    " * Activted payment plans through credit cards if any. \n",
    " * Most frequent places which car swiped. \n",
    " * Fixed Deposit loans flag( Yes/No).\n",
    " * Avrage monthly cost for credit card. \n",
    " * Average monthly debits.\n",
    " * Average monthly credits.\n",
    " * "
   ]
  },
  {
   "cell_type": "markdown",
   "metadata": {},
   "source": [
    "# 3. Business Rules (Sampath Bank) \n",
    "\n",
    " * Sampath wishwa customers \n",
    " * "
   ]
  },
  {
   "cell_type": "markdown",
   "metadata": {},
   "source": [
    "# 4. Software and Libraries \n",
    "\n",
    "Softwares\n",
    "-------------------\n",
    " * Anaconda-Jupyter notebook with python 3.  \n",
    "    \n",
    "Libraries \n",
    "-------------------\n",
    "\n",
    " * pandas\n",
    " * numpy\n",
    " * matplotlib\n",
    " * seaborn\n",
    " * plotly\n",
    " * sklearn\n",
    " * lightgbm \n",
    " * xgboost \n",
    " * ggplot2\n",
    " * graphviz\n",
    " * catboost \n",
    " * \n",
    "\n"
   ]
  },
  {
   "cell_type": "markdown",
   "metadata": {},
   "source": [
    "# 5. Data Sources \n",
    "\n",
    " * Credit card related information.\n",
    " * Co-Banking system.\n",
    " * Trade finance system. "
   ]
  },
  {
   "cell_type": "markdown",
   "metadata": {},
   "source": [
    "# 6. Train/Test set Preparations \n",
    "\n"
   ]
  }
 ],
 "metadata": {
  "kernelspec": {
   "display_name": "Python 3",
   "language": "python",
   "name": "python3"
  },
  "language_info": {
   "codemirror_mode": {
    "name": "ipython",
    "version": 3
   },
   "file_extension": ".py",
   "mimetype": "text/x-python",
   "name": "python",
   "nbconvert_exporter": "python",
   "pygments_lexer": "ipython3",
   "version": "3.6.4"
  }
 },
 "nbformat": 4,
 "nbformat_minor": 2
}
