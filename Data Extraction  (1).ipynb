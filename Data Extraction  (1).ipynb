{
 "cells": [
  {
   "cell_type": "markdown",
   "metadata": {},
   "source": [
    "# Importing Libraries "
   ]
  },
  {
   "cell_type": "code",
   "execution_count": 1,
   "metadata": {},
   "outputs": [],
   "source": [
    "import logging \n",
    "#Importing libraries \n",
    "logging.basicConfig(filename='Log_Example.log',level=logging.DEBUG)\n",
    "logging.info(\"Libraries importing started\")\n",
    "import numpy as np\n",
    "import pandas as pd\n",
    "import cx_Oracle\n",
    "import dateutil\n",
    "import datetime as dt \n",
    "import xgboost as xgb\n",
    "import lightgbm as lgb\n",
    "import seaborn as sns\n",
    "color = sns.color_palette()\n",
    "import matplotlib\n",
    "import matplotlib.pyplot as plt \n",
    "from datetime import datetime as dt \n",
    "from sklearn.preprocessing import Imputer\n",
    "from sklearn import preprocessing\n",
    "from sklearn.model_selection import train_test_split \n",
    "logging.info(\"Libraries importing completed\")"
   ]
  },
  {
   "cell_type": "markdown",
   "metadata": {},
   "source": [
    "# Connecting to 172 AND 182 "
   ]
  },
  {
   "cell_type": "code",
   "execution_count": 2,
   "metadata": {},
   "outputs": [],
   "source": [
    "logger=logging.getLogger(__name__)\n",
    "def dbConnection(connectString):\n",
    "    logging.info(\"DB connection started %s\",connectString)\n",
    "    connection = cx_Oracle.connect(connectString)\n",
    "    logger.info(\"DB connection successfull %s\",connection)\n",
    "    logging.info\n",
    "    return connection \n",
    "\n",
    "connectString_182='anlinq/anlinq@172.16.1.182:1521/dwh'\n",
    "connectString_172='anlinq/anlinq@172.16.1.172:1521/BIDB'\n",
    "\n",
    "connection_182=dbConnection(connectString_182)\n",
    "connection_172=dbConnection(connectString_172)\n"
   ]
  },
  {
   "cell_type": "markdown",
   "metadata": {},
   "source": [
    "# Vishwa Data Extraction"
   ]
  },
  {
   "cell_type": "code",
   "execution_count": 6,
   "metadata": {},
   "outputs": [
    {
     "data": {
      "text/plain": [
       "<cx_Oracle.Connection to anlinq@172.16.1.172:1521/BIDB>"
      ]
     },
     "execution_count": 6,
     "metadata": {},
     "output_type": "execute_result"
    }
   ],
   "source": [
    "#SQL Queries \n",
    "\n",
    "--Customer \n",
    "select a.USER_ID,CUST_ACCOUNT,NIC_NUMBER,CUST_REF_NO, BANK_CUST_FLG,CUST_GENDER AS V_GENDER , \n",
    "CIVIL_STATUS AS V_CIVIL_STATUS, \n",
    "TO_CHAR(CUST_DOB) AS V_CUST_DOB, \n",
    "COMM_CITY AS V_CITY,CHARGE_PROFILE, \n",
    "case when CUST_CCARD is not null then 'Yes' else 'No' END as CREDIT_CARD_FLAG, \n",
    "case when lower(comm_country) like '%sri%' then 'Yes' else 'No' end as V_COUNTRY_SL, \n",
    "round((LAST_DAY(add_months(trunc(sysdate,'mm'),-1))-activate_date),0) as VISHWA_AGE, \n",
    "round((LAST_DAY(add_months(trunc(sysdate,'mm'),-1))-last_login_date),0) as LAST_LOGIN_AGE \n",
    "from TBAADM.svr_user_master_table a \n",
    "WHERE R_STATUS=104 \n",
    "\n",
    "--Transfer \n",
    "select USER_ID,sum(TXN_AMOUNT) as V_TXN_AMOUNT,sum(TXN_CURR_AMOUNT) AS V_TXN_CURR_AMOUNT,sum(TXN_AMOUNT_LKR) AS V_TXN_AMOUNT_LKR,count(*)AS V_TXN_CNT \n",
    "from tbaadm.svr_transfers_master_table\n",
    "where tran_date>= add_months(trunc(sysdate,'mm'),-6) AND tran_date<= LAST_DAY(add_months(trunc(sysdate,'mm'),-1))\n",
    "group by USER_ID\n",
    "ORDER BY USER_ID\n",
    "\n",
    "--Payments\n",
    "SELECT CUST_ID as USER_ID,sum(AMOUNT) AS V_PMNT_AMOUNT,sum(TRANSACTION_AMT_LKR) AS V_PMNT_TRANSACTION_AMT_LKR,count(*) AS V_PMNT_COUNT \n",
    "FROM tbaadm.svr_payments_master_table\n",
    "where tran_date>= add_months(trunc(sysdate,'mm'),-6) AND tran_date<= LAST_DAY(add_months(trunc(sysdate,'mm'),-1))\n",
    "group by CUST_ID\n",
    "ORDER BY USER_ID\n",
    "\n",
    "--Scheduled payments \n",
    "\n",
    "SELECT \n",
    "  USER_ID, sum(TXN_AMOUNT_LKR) AS V_SCH_PMNT_AMOUNT_LKR,sum(CREDIT_AMOUNT) AS V_SCH_PMNT_CREDIT_AMOUNT,sum(CREDIT_CURR_AMOUNT) AS V_SCH_PMNT_CREDIT_CURR_AMOUNT\n",
    "  ,count(*) V_SCH_PMNT_CNT\n",
    "FROM tbaadm.svr_schedule_pmt_tfr_table\n",
    "where SCH_DATE>= add_months(trunc(sysdate,'mm'),-6) AND SCH_DATE<= LAST_DAY(add_months(trunc(sysdate,'mm'),-1))\n",
    "group by USER_ID\n",
    "ORDER BY USER_ID"
   ]
  },
  {
   "cell_type": "code",
   "execution_count": 4,
   "metadata": {},
   "outputs": [
    {
     "data": {
      "text/plain": [
       "\"select a.USER_ID,CUST_ACCOUNT,NIC_NUMBER,CUST_REF_NO, BANK_CUST_FLG,CUST_GENDER AS V_GENDER , CIVIL_STATUS AS V_CIVIL_STATUS, TO_CHAR(CUST_DOB) AS V_CUST_DOB, COMM_CITY AS V_CITY,CHARGE_PROFILE, case when CUST_CCARD is not null then 'Yes' else 'No' END as CREDIT_CARD_FLAG, case when lower(comm_country) like '%sri%' then 'Yes' else 'No' end as V_COUNTRY_SL, round((LAST_DAY(add_months(trunc(sysdate,'mm'),-1))-activate_date),0) as VISHWA_AGE, round((LAST_DAY(add_months(trunc(sysdate,'mm'),-1))-last_login_date),0) as LAST_LOGIN_AGE from TBAADM.svr_user_master_table a WHERE R_STATUS=104 \""
      ]
     },
     "execution_count": 4,
     "metadata": {},
     "output_type": "execute_result"
    }
   ],
   "source": [
    "vishCustomer='select a.USER_ID,CUST_ACCOUNT,NIC_NUMBER,CUST_REF_NO, BANK_CUST_FLG,CUST_GENDER AS V_GENDER , \\\n",
    "CIVIL_STATUS AS V_CIVIL_STATUS, \\\n",
    "TO_CHAR(CUST_DOB) AS V_CUST_DOB, \\\n",
    "COMM_CITY AS V_CITY,CHARGE_PROFILE, \\\n",
    "case when CUST_CCARD is not null then \\'Yes\\' else \\'No\\' END as CREDIT_CARD_FLAG, \\\n",
    "case when lower(comm_country) like \\'%sri%\\' then \\'Yes\\' else \\'No\\' end as V_COUNTRY_SL, \\\n",
    "round((LAST_DAY(add_months(trunc(sysdate,\\'mm\\'),-1))-activate_date),0) as VISHWA_AGE, \\\n",
    "round((LAST_DAY(add_months(trunc(sysdate,\\'mm\\'),-1))-last_login_date),0) as LAST_LOGIN_AGE \\\n",
    "from TBAADM.svr_user_master_table a \\\n",
    "WHERE R_STATUS=104 '\n",
    "vishCustomer"
   ]
  },
  {
   "cell_type": "code",
   "execution_count": 5,
   "metadata": {},
   "outputs": [],
   "source": [
    "#Extracting all vishwa customer data \n",
    "def get_raw_vishwaCustomer(connection,queryString):\n",
    "    logging.info(\"vishwa customer data extraction started\")\n",
    "    df = pd.read_sql(queryString,con=connection)\n",
    "    logging.info(\"vishwa customer data extraction completed\")\n",
    "    return df \n",
    "\n",
    "vishwaCustomer=get_raw_vishwaCustomer(connection_182,vishCustomer)"
   ]
  },
  {
   "cell_type": "code",
   "execution_count": 50,
   "metadata": {},
   "outputs": [
    {
     "data": {
      "text/html": [
       "<div>\n",
       "<style scoped>\n",
       "    .dataframe tbody tr th:only-of-type {\n",
       "        vertical-align: middle;\n",
       "    }\n",
       "\n",
       "    .dataframe tbody tr th {\n",
       "        vertical-align: top;\n",
       "    }\n",
       "\n",
       "    .dataframe thead th {\n",
       "        text-align: right;\n",
       "    }\n",
       "</style>\n",
       "<table border=\"1\" class=\"dataframe\">\n",
       "  <thead>\n",
       "    <tr style=\"text-align: right;\">\n",
       "      <th></th>\n",
       "      <th>USER_ID</th>\n",
       "      <th>CUST_ACCOUNT</th>\n",
       "      <th>NIC_NUMBER</th>\n",
       "      <th>CUST_REF_NO</th>\n",
       "      <th>BANK_CUST_FLG</th>\n",
       "      <th>V_GENDER</th>\n",
       "      <th>V_CIVIL_STATUS</th>\n",
       "      <th>V_CUST_DOB</th>\n",
       "      <th>V_CITY</th>\n",
       "      <th>CHARGE_PROFILE</th>\n",
       "      <th>CREDIT_CARD_FLAG</th>\n",
       "      <th>V_COUNTRY_SL</th>\n",
       "      <th>VISHWA_AGE</th>\n",
       "      <th>LAST_LOGIN_AGE</th>\n",
       "    </tr>\n",
       "  </thead>\n",
       "  <tbody>\n",
       "    <tr>\n",
       "      <th>0</th>\n",
       "      <td>menake</td>\n",
       "      <td>1.001e+11</td>\n",
       "      <td>761160532v</td>\n",
       "      <td>929100000003</td>\n",
       "      <td>Y</td>\n",
       "      <td>M</td>\n",
       "      <td>Married</td>\n",
       "      <td>25-04-1976</td>\n",
       "      <td>Thalahena</td>\n",
       "      <td>STF</td>\n",
       "      <td>No</td>\n",
       "      <td>Yes</td>\n",
       "      <td>1406.0</td>\n",
       "      <td>-15.0</td>\n",
       "    </tr>\n",
       "    <tr>\n",
       "      <th>1</th>\n",
       "      <td>wiggin</td>\n",
       "      <td>1.00105e+11</td>\n",
       "      <td>862102045V</td>\n",
       "      <td>929100000008</td>\n",
       "      <td>Y</td>\n",
       "      <td>M</td>\n",
       "      <td>Single</td>\n",
       "      <td>28-07-1986</td>\n",
       "      <td>kandy</td>\n",
       "      <td>STF</td>\n",
       "      <td>No</td>\n",
       "      <td>Yes</td>\n",
       "      <td>2597.0</td>\n",
       "      <td>-16.0</td>\n",
       "    </tr>\n",
       "    <tr>\n",
       "      <th>2</th>\n",
       "      <td>manjula</td>\n",
       "      <td>1.001e+11</td>\n",
       "      <td>732110577V</td>\n",
       "      <td>929100000010</td>\n",
       "      <td>Y</td>\n",
       "      <td>M</td>\n",
       "      <td>Married</td>\n",
       "      <td>29-07-1973</td>\n",
       "      <td>Ragama</td>\n",
       "      <td>STF</td>\n",
       "      <td>No</td>\n",
       "      <td>Yes</td>\n",
       "      <td>2497.0</td>\n",
       "      <td>-9.0</td>\n",
       "    </tr>\n",
       "  </tbody>\n",
       "</table>\n",
       "</div>"
      ],
      "text/plain": [
       "   USER_ID CUST_ACCOUNT  NIC_NUMBER   CUST_REF_NO BANK_CUST_FLG V_GENDER  \\\n",
       "0   menake    1.001e+11  761160532v  929100000003             Y        M   \n",
       "1   wiggin  1.00105e+11  862102045V  929100000008             Y        M   \n",
       "2  manjula    1.001e+11  732110577V  929100000010             Y        M   \n",
       "\n",
       "  V_CIVIL_STATUS  V_CUST_DOB     V_CITY CHARGE_PROFILE CREDIT_CARD_FLAG  \\\n",
       "0        Married  25-04-1976  Thalahena            STF               No   \n",
       "1         Single  28-07-1986      kandy            STF               No   \n",
       "2        Married  29-07-1973     Ragama            STF               No   \n",
       "\n",
       "  V_COUNTRY_SL  VISHWA_AGE  LAST_LOGIN_AGE  \n",
       "0          Yes      1406.0           -15.0  \n",
       "1          Yes      2597.0           -16.0  \n",
       "2          Yes      2497.0            -9.0  "
      ]
     },
     "execution_count": 50,
     "metadata": {},
     "output_type": "execute_result"
    }
   ],
   "source": [
    "vishwaCustomer.head(3)"
   ]
  },
  {
   "cell_type": "code",
   "execution_count": 6,
   "metadata": {},
   "outputs": [
    {
     "data": {
      "text/plain": [
       "\"select USER_ID, SUM(CASE WHEN TRAN_MODE='OT' then TXN_AMOUNT_LKR ELSE 0 END) AS V_OT_TXN_AMOUNT_LKR, SUM(CASE WHEN TRAN_MODE='RA' then TXN_AMOUNT_LKR ELSE 0 END) AS V_RA_TXN_AMOUNT_LKR, SUM(CASE WHEN TRAN_MODE='RT' then TXN_AMOUNT_LKR ELSE 0 END) AS V_RT_TXN_AMOUNT_LKR, SUM(CASE WHEN TRAN_MODE='MC' then TXN_AMOUNT_LKR ELSE 0 END) AS V_MC_TXN_AMOUNT_LKR, SUM(CASE WHEN TRAN_MODE='TT' then TXN_AMOUNT_LKR ELSE 0 END) AS V_TT_TXN_AMOUNT_LKR ,count(*)AS V_TXN_CNT from tbaadm.svr_transfers_master_table where tran_date>= add_months(trunc(sysdate,'mm'),-6) AND tran_date<= LAST_DAY(add_months(trunc(sysdate,'mm'),-1)) group by USER_ID ORDER BY USER_ID\""
      ]
     },
     "execution_count": 6,
     "metadata": {},
     "output_type": "execute_result"
    }
   ],
   "source": [
    "vishTransfer='select USER_ID, \\\n",
    "SUM(CASE WHEN TRAN_MODE=\\'OT\\' then TXN_AMOUNT_LKR ELSE 0 END) AS V_OT_TXN_AMOUNT_LKR, \\\n",
    "SUM(CASE WHEN TRAN_MODE=\\'RA\\' then TXN_AMOUNT_LKR ELSE 0 END) AS V_RA_TXN_AMOUNT_LKR, \\\n",
    "SUM(CASE WHEN TRAN_MODE=\\'RT\\' then TXN_AMOUNT_LKR ELSE 0 END) AS V_RT_TXN_AMOUNT_LKR, \\\n",
    "SUM(CASE WHEN TRAN_MODE=\\'MC\\' then TXN_AMOUNT_LKR ELSE 0 END) AS V_MC_TXN_AMOUNT_LKR, \\\n",
    "SUM(CASE WHEN TRAN_MODE=\\'TT\\' then TXN_AMOUNT_LKR ELSE 0 END) AS V_TT_TXN_AMOUNT_LKR \\\n",
    ",count(*)AS V_TXN_CNT \\\n",
    "from tbaadm.svr_transfers_master_table \\\n",
    "where tran_date>= add_months(trunc(sysdate,\\'mm\\'),-6) AND tran_date<= LAST_DAY(add_months(trunc(sysdate,\\'mm\\'),-1)) \\\n",
    "group by USER_ID \\\n",
    "ORDER BY USER_ID'\n",
    "vishTransfer"
   ]
  },
  {
   "cell_type": "code",
   "execution_count": 7,
   "metadata": {},
   "outputs": [],
   "source": [
    "#Extracting all vishwa transfer data \n",
    "def get_raw_vishwaTransfer(connection,queryString):\n",
    "    logging.info(\"vishwa transfer data extraction started\")\n",
    "    df = pd.read_sql(queryString,con=connection)\n",
    "    logging.info(\"vishwa transfer data extraction completed\")\n",
    "    return df \n",
    "\n",
    "vishwaTransfer=get_raw_vishwaTransfer(connection_182,vishTransfer)"
   ]
  },
  {
   "cell_type": "code",
   "execution_count": 48,
   "metadata": {
    "scrolled": true
   },
   "outputs": [
    {
     "data": {
      "text/html": [
       "<div>\n",
       "<style scoped>\n",
       "    .dataframe tbody tr th:only-of-type {\n",
       "        vertical-align: middle;\n",
       "    }\n",
       "\n",
       "    .dataframe tbody tr th {\n",
       "        vertical-align: top;\n",
       "    }\n",
       "\n",
       "    .dataframe thead th {\n",
       "        text-align: right;\n",
       "    }\n",
       "</style>\n",
       "<table border=\"1\" class=\"dataframe\">\n",
       "  <thead>\n",
       "    <tr style=\"text-align: right;\">\n",
       "      <th></th>\n",
       "      <th>USER_ID</th>\n",
       "      <th>V_OT_TXN_AMOUNT_LKR</th>\n",
       "      <th>V_RA_TXN_AMOUNT_LKR</th>\n",
       "      <th>V_RT_TXN_AMOUNT_LKR</th>\n",
       "      <th>V_MC_TXN_AMOUNT_LKR</th>\n",
       "      <th>V_TT_TXN_AMOUNT_LKR</th>\n",
       "      <th>V_TXN_CNT</th>\n",
       "    </tr>\n",
       "  </thead>\n",
       "  <tbody>\n",
       "    <tr>\n",
       "      <th>0</th>\n",
       "      <td>0000979141</td>\n",
       "      <td>0.0</td>\n",
       "      <td>327600.0</td>\n",
       "      <td>0</td>\n",
       "      <td>0</td>\n",
       "      <td>10000.00</td>\n",
       "      <td>15</td>\n",
       "    </tr>\n",
       "    <tr>\n",
       "      <th>1</th>\n",
       "      <td>0001000016200</td>\n",
       "      <td>911000.0</td>\n",
       "      <td>10050.0</td>\n",
       "      <td>0</td>\n",
       "      <td>0</td>\n",
       "      <td>98755.29</td>\n",
       "      <td>14</td>\n",
       "    </tr>\n",
       "    <tr>\n",
       "      <th>2</th>\n",
       "      <td>000150125588</td>\n",
       "      <td>2111000.0</td>\n",
       "      <td>745800.0</td>\n",
       "      <td>0</td>\n",
       "      <td>0</td>\n",
       "      <td>15000.00</td>\n",
       "      <td>50</td>\n",
       "    </tr>\n",
       "  </tbody>\n",
       "</table>\n",
       "</div>"
      ],
      "text/plain": [
       "         USER_ID  V_OT_TXN_AMOUNT_LKR  V_RA_TXN_AMOUNT_LKR  \\\n",
       "0     0000979141                  0.0             327600.0   \n",
       "1  0001000016200             911000.0              10050.0   \n",
       "2   000150125588            2111000.0             745800.0   \n",
       "\n",
       "   V_RT_TXN_AMOUNT_LKR  V_MC_TXN_AMOUNT_LKR  V_TT_TXN_AMOUNT_LKR  V_TXN_CNT  \n",
       "0                    0                    0             10000.00         15  \n",
       "1                    0                    0             98755.29         14  \n",
       "2                    0                    0             15000.00         50  "
      ]
     },
     "execution_count": 48,
     "metadata": {},
     "output_type": "execute_result"
    }
   ],
   "source": [
    "vishwaTransfer.head(3)"
   ]
  },
  {
   "cell_type": "code",
   "execution_count": 8,
   "metadata": {},
   "outputs": [
    {
     "data": {
      "text/plain": [
       "\"SELECT CUST_ID as USER_ID,sum(TRANSACTION_AMT_LKR) AS V_PMNT_TRANSACTION_AMT_LKR,count(*) AS V_PMNT_COUNT FROM tbaadm.svr_payments_master_table where tran_date>= add_months(trunc(sysdate,'mm'),-6) AND tran_date<= LAST_DAY(add_months(trunc(sysdate,'mm'),-1)) group by CUST_ID ORDER BY USER_ID\""
      ]
     },
     "execution_count": 8,
     "metadata": {},
     "output_type": "execute_result"
    }
   ],
   "source": [
    "vishPayment='SELECT CUST_ID as USER_ID,sum(TRANSACTION_AMT_LKR) AS V_PMNT_TRANSACTION_AMT_LKR,count(*) AS V_PMNT_COUNT \\\n",
    "FROM tbaadm.svr_payments_master_table \\\n",
    "where tran_date>= add_months(trunc(sysdate,\\'mm\\'),-6) AND tran_date<= LAST_DAY(add_months(trunc(sysdate,\\'mm\\'),-1)) \\\n",
    "group by CUST_ID \\\n",
    "ORDER BY USER_ID'\n",
    "vishPayment"
   ]
  },
  {
   "cell_type": "code",
   "execution_count": 9,
   "metadata": {},
   "outputs": [],
   "source": [
    "#Extracting all vishwa payment data \n",
    "def get_raw_vishwaPayment(connection,queryString):\n",
    "    logging.info(\"vishwa payment data extraction started\")\n",
    "    df = pd.read_sql(queryString,con=connection)\n",
    "    logging.info(\"vishwa payment data extraction completed\")\n",
    "    return df \n",
    "\n",
    "vishwaPayment=get_raw_vishwaPayment(connection_182,vishPayment)"
   ]
  },
  {
   "cell_type": "code",
   "execution_count": 49,
   "metadata": {},
   "outputs": [
    {
     "data": {
      "text/html": [
       "<div>\n",
       "<style scoped>\n",
       "    .dataframe tbody tr th:only-of-type {\n",
       "        vertical-align: middle;\n",
       "    }\n",
       "\n",
       "    .dataframe tbody tr th {\n",
       "        vertical-align: top;\n",
       "    }\n",
       "\n",
       "    .dataframe thead th {\n",
       "        text-align: right;\n",
       "    }\n",
       "</style>\n",
       "<table border=\"1\" class=\"dataframe\">\n",
       "  <thead>\n",
       "    <tr style=\"text-align: right;\">\n",
       "      <th></th>\n",
       "      <th>USER_ID</th>\n",
       "      <th>V_PMNT_TRANSACTION_AMT_LKR</th>\n",
       "      <th>V_PMNT_COUNT</th>\n",
       "    </tr>\n",
       "  </thead>\n",
       "  <tbody>\n",
       "    <tr>\n",
       "      <th>0</th>\n",
       "      <td>0000979141</td>\n",
       "      <td>2945.00</td>\n",
       "      <td>30</td>\n",
       "    </tr>\n",
       "    <tr>\n",
       "      <th>1</th>\n",
       "      <td>0001000016200</td>\n",
       "      <td>36553.89</td>\n",
       "      <td>18</td>\n",
       "    </tr>\n",
       "    <tr>\n",
       "      <th>2</th>\n",
       "      <td>000150125588</td>\n",
       "      <td>407806.77</td>\n",
       "      <td>10</td>\n",
       "    </tr>\n",
       "  </tbody>\n",
       "</table>\n",
       "</div>"
      ],
      "text/plain": [
       "         USER_ID  V_PMNT_TRANSACTION_AMT_LKR  V_PMNT_COUNT\n",
       "0     0000979141                     2945.00            30\n",
       "1  0001000016200                    36553.89            18\n",
       "2   000150125588                   407806.77            10"
      ]
     },
     "execution_count": 49,
     "metadata": {},
     "output_type": "execute_result"
    }
   ],
   "source": [
    "vishwaPayment.head(3)"
   ]
  },
  {
   "cell_type": "code",
   "execution_count": 10,
   "metadata": {},
   "outputs": [
    {
     "data": {
      "text/plain": [
       "\"SELECT USER_ID, sum(TXN_AMOUNT_LKR) AS V_SCH_PMNT_AMOUNT_LKR,count(*) V_SCH_PMNT_CNT FROM tbaadm.svr_schedule_pmt_tfr_table where SCH_DATE>= add_months(trunc(sysdate,'mm'),-6) AND SCH_DATE<= LAST_DAY(add_months(trunc(sysdate,'mm'),-1)) group by USER_ID ORDER BY USER_ID\""
      ]
     },
     "execution_count": 10,
     "metadata": {},
     "output_type": "execute_result"
    }
   ],
   "source": [
    "vishSchdPayment='SELECT USER_ID, sum(TXN_AMOUNT_LKR) AS V_SCH_PMNT_AMOUNT_LKR,count(*) V_SCH_PMNT_CNT \\\n",
    "FROM tbaadm.svr_schedule_pmt_tfr_table \\\n",
    "where SCH_DATE>= add_months(trunc(sysdate,\\'mm\\'),-6) AND SCH_DATE<= LAST_DAY(add_months(trunc(sysdate,\\'mm\\'),-1)) \\\n",
    "group by USER_ID \\\n",
    "ORDER BY USER_ID'\n",
    "vishSchdPayment"
   ]
  },
  {
   "cell_type": "code",
   "execution_count": 11,
   "metadata": {},
   "outputs": [],
   "source": [
    "#Extracting all vishwa sheduled payment data \n",
    "def get_raw_vishwaSchdPayment(connection,queryString):\n",
    "    logging.info(\"vishwa Scheduled  payment data extraction started\")\n",
    "    df = pd.read_sql(\n",
    "        queryString,con=connection)\n",
    "    logging.info(\"vishwa Scheduled payment data extraction completed\")\n",
    "    return df \n",
    "\n",
    "vishwaSchdPayment=get_raw_vishwaSchdPayment(connection_182,vishSchdPayment)\n",
    "#print(vishwa.head(5))"
   ]
  },
  {
   "cell_type": "code",
   "execution_count": 12,
   "metadata": {
    "scrolled": true
   },
   "outputs": [
    {
     "data": {
      "text/html": [
       "<div>\n",
       "<style scoped>\n",
       "    .dataframe tbody tr th:only-of-type {\n",
       "        vertical-align: middle;\n",
       "    }\n",
       "\n",
       "    .dataframe tbody tr th {\n",
       "        vertical-align: top;\n",
       "    }\n",
       "\n",
       "    .dataframe thead th {\n",
       "        text-align: right;\n",
       "    }\n",
       "</style>\n",
       "<table border=\"1\" class=\"dataframe\">\n",
       "  <thead>\n",
       "    <tr style=\"text-align: right;\">\n",
       "      <th></th>\n",
       "      <th>USER_ID</th>\n",
       "      <th>V_SCH_PMNT_AMOUNT_LKR</th>\n",
       "      <th>V_SCH_PMNT_CNT</th>\n",
       "    </tr>\n",
       "  </thead>\n",
       "  <tbody>\n",
       "    <tr>\n",
       "      <th>0</th>\n",
       "      <td>0001000016200</td>\n",
       "      <td>89212.73</td>\n",
       "      <td>7</td>\n",
       "    </tr>\n",
       "    <tr>\n",
       "      <th>1</th>\n",
       "      <td>001000001050</td>\n",
       "      <td>1156874.00</td>\n",
       "      <td>12</td>\n",
       "    </tr>\n",
       "    <tr>\n",
       "      <th>2</th>\n",
       "      <td>001000001220</td>\n",
       "      <td>0.00</td>\n",
       "      <td>1</td>\n",
       "    </tr>\n",
       "  </tbody>\n",
       "</table>\n",
       "</div>"
      ],
      "text/plain": [
       "         USER_ID  V_SCH_PMNT_AMOUNT_LKR  V_SCH_PMNT_CNT\n",
       "0  0001000016200               89212.73               7\n",
       "1   001000001050             1156874.00              12\n",
       "2   001000001220                   0.00               1"
      ]
     },
     "execution_count": 12,
     "metadata": {},
     "output_type": "execute_result"
    }
   ],
   "source": [
    "vishwaSchdPayment.head(3)"
   ]
  },
  {
   "cell_type": "raw",
   "metadata": {},
   "source": [
    "tbaadm.svr_cust_id_table have many to many relationship between cust_id and user_id. Objective is to find the (cust_id,user_id) pairs which have 1-1 mapping. "
   ]
  },
  {
   "cell_type": "code",
   "execution_count": 147,
   "metadata": {},
   "outputs": [
    {
     "data": {
      "text/plain": [
       "'select distinct user_id from tbaadm.svr_cust_id_table group by user_id having count(cust_id)= 1'"
      ]
     },
     "execution_count": 147,
     "metadata": {},
     "output_type": "execute_result"
    }
   ],
   "source": [
    "\n",
    "#Extracting the user_id whose have only one cust_id\n",
    "vishDisUser11='select distinct user_id \\\n",
    "from tbaadm.svr_cust_id_table \\\n",
    "where status_id=104 \\\n",
    "group by user_id \\\n",
    "having count(cust_id)= 1'\n",
    "\n",
    "\n",
    "#Extracting the user_id whose have many cust_id\n",
    "vishDisUser1M='select distinct user_id \\\n",
    "from tbaadm.svr_cust_id_table \\\n",
    "where status_id=104 \\\n",
    "group by user_id \\\n",
    "having count(cust_id)>1'\n",
    "\n",
    "\n",
    "#Extracting the cust_id whose have only one user_id\n",
    "vishDisCust11='select distinct cust_id \\\n",
    "from tbaadm.svr_cust_id_table \\\n",
    "where status_id=104 \\\n",
    "group by cust_id \\\n",
    "having count(user_id)=1'\n",
    "\n",
    "#Extracting the cust_id whose have  many user_ids\n",
    "vishDisCust1M='select distinct cust_id \\\n",
    "from tbaadm.svr_cust_id_table \\\n",
    "where status_id=104 \\\n",
    "group by cust_id \\\n",
    "having count(user_id)>1'\n",
    "\n",
    "#extracting user_id and cust_id pairs(This contain many to many relationship structure )\n",
    "vishUserCust='select distinct user_id,cust_id \\\n",
    "from tbaadm.svr_cust_id_table \\\n",
    "where status_id=104'\n",
    "\n",
    "vishDisUser"
   ]
  },
  {
   "cell_type": "code",
   "execution_count": 271,
   "metadata": {},
   "outputs": [],
   "source": [
    "#Extracting all vishwa user cust track data \n",
    "#Note: Only one to one mapping between cust_id and user id recodrs are considered at the moment. \n",
    "def get_raw_vishwaUserCustTrack(connection,queryString1,queryString2,queryString3,queryString4,queryString5):\n",
    "    logging.info(\"User_id cust_id mapping data extraction started\")\n",
    "    UC11 = pd.read_sql(queryString1,con=connection_182)\n",
    "    UC1M = pd.read_sql(queryString2,con=connection_182)\n",
    "    CU11 = pd.read_sql(queryString4,con=connection_182)\n",
    "    CU1M = pd.read_sql(queryString5,con=connection_182)\n",
    "    df = pd.read_sql(queryString3,con=connection_182)\n",
    "    \n",
    "    dfUC11=df.merge(right=UC11.reset_index(drop=True), how='inner', on='USER_ID')\n",
    "    \n",
    "    d=dfUC11.merge(right=CU11.reset_index(drop=True), how='inner', on='CUST_ID')\n",
    "    d1 = df.merge(right=UC1M.reset_index(drop=True), how='inner', on='USER_ID')\n",
    "    d2 = df.merge(right=CU1M.reset_index(drop=True), how='inner', on='CUST_ID')\n",
    "    \n",
    "    logging.info(\"User id cust_id mapping data extraction completed\")\n",
    "    return d,d1,d2 \n",
    "\n",
    "vishwaUserCustTrack,vishwaUserCustTrack1M,vishwaCustUserTrack1M=get_raw_vishwaUserCustTrack(connection_182,vishDisUser11,vishDisUser1M,vishUserCust,vishDisCust11,vishDisCust1M)"
   ]
  },
  {
   "cell_type": "code",
   "execution_count": 272,
   "metadata": {},
   "outputs": [
    {
     "name": "stdout",
     "output_type": "stream",
     "text": [
      "(299556, 2)\n",
      "(7465, 2)\n",
      "(804, 2)\n"
     ]
    }
   ],
   "source": [
    "print(vishwaUserCustTrack.shape)\n",
    "print(vishwaUserCustTrack1M.shape)\n",
    "print(vishwaCustUserTrack1M.shape)"
   ]
  },
  {
   "cell_type": "code",
   "execution_count": 106,
   "metadata": {},
   "outputs": [
    {
     "data": {
      "text/plain": [
       "'SELECT USER_ID, CUST_ID, COUNT(*) OVER (PARTITION BY USER_ID) U_Cnt, COUNT(*) OVER (PARTITION BY CUST_ID) C_Cnt FROM tbaadm.svr_cust_id_table'"
      ]
     },
     "execution_count": 106,
     "metadata": {},
     "output_type": "execute_result"
    }
   ],
   "source": [
    "userCustMap='SELECT USER_ID, \\\n",
    "CUST_ID, \\\n",
    "COUNT(*) OVER (PARTITION BY USER_ID) U_Cnt, \\\n",
    "COUNT(*) OVER (PARTITION BY CUST_ID) C_Cnt \\\n",
    "FROM tbaadm.svr_cust_id_table'\n",
    "userCustMap"
   ]
  },
  {
   "cell_type": "code",
   "execution_count": 107,
   "metadata": {},
   "outputs": [],
   "source": [
    "#Extracting all vishwa sheduled payment data \n",
    "def get_raw_userCustTrack(connection,queryString):\n",
    "    logging.info(\"vishwa user cust data extraction started\")\n",
    "    df = pd.read_sql(queryString,con=connection)\n",
    "    logging.info(\"vishwa user cust  data extraction completed\")\n",
    "    return df \n",
    "\n",
    "userCustTrack=get_raw_userCustTrack(connection_182,userCustMap)"
   ]
  },
  {
   "cell_type": "code",
   "execution_count": 109,
   "metadata": {},
   "outputs": [],
   "source": []
  },
  {
   "cell_type": "code",
   "execution_count": 273,
   "metadata": {},
   "outputs": [],
   "source": [
    "#Joining 4 tables to make vishwa Data frame \n",
    "vishwaDF = vishwaCustomer.merge(right=vishwaTransfer.reset_index(drop=True), how='left', on='USER_ID')\n",
    "vishwaDF = vishwaDF.merge(right=vishwaPayment.reset_index(drop=True), how='left', on='USER_ID')\n",
    "vishwaDF = vishwaDF.merge(right=vishwaSchdPayment.reset_index(drop=True), how='left', on='USER_ID')"
   ]
  },
  {
   "cell_type": "code",
   "execution_count": 274,
   "metadata": {},
   "outputs": [
    {
     "name": "stdout",
     "output_type": "stream",
     "text": [
      "(308736, 24)\n"
     ]
    },
    {
     "data": {
      "text/html": [
       "<div>\n",
       "<style scoped>\n",
       "    .dataframe tbody tr th:only-of-type {\n",
       "        vertical-align: middle;\n",
       "    }\n",
       "\n",
       "    .dataframe tbody tr th {\n",
       "        vertical-align: top;\n",
       "    }\n",
       "\n",
       "    .dataframe thead th {\n",
       "        text-align: right;\n",
       "    }\n",
       "</style>\n",
       "<table border=\"1\" class=\"dataframe\">\n",
       "  <thead>\n",
       "    <tr style=\"text-align: right;\">\n",
       "      <th></th>\n",
       "      <th>USER_ID</th>\n",
       "      <th>CUST_ACCOUNT</th>\n",
       "      <th>NIC_NUMBER</th>\n",
       "      <th>CUST_REF_NO</th>\n",
       "      <th>BANK_CUST_FLG</th>\n",
       "      <th>V_GENDER</th>\n",
       "      <th>V_CIVIL_STATUS</th>\n",
       "      <th>V_CUST_DOB</th>\n",
       "      <th>V_CITY</th>\n",
       "      <th>CHARGE_PROFILE</th>\n",
       "      <th>...</th>\n",
       "      <th>V_OT_TXN_AMOUNT_LKR</th>\n",
       "      <th>V_RA_TXN_AMOUNT_LKR</th>\n",
       "      <th>V_RT_TXN_AMOUNT_LKR</th>\n",
       "      <th>V_MC_TXN_AMOUNT_LKR</th>\n",
       "      <th>V_TT_TXN_AMOUNT_LKR</th>\n",
       "      <th>V_TXN_CNT</th>\n",
       "      <th>V_PMNT_TRANSACTION_AMT_LKR</th>\n",
       "      <th>V_PMNT_COUNT</th>\n",
       "      <th>V_SCH_PMNT_AMOUNT_LKR</th>\n",
       "      <th>V_SCH_PMNT_CNT</th>\n",
       "    </tr>\n",
       "  </thead>\n",
       "  <tbody>\n",
       "    <tr>\n",
       "      <th>0</th>\n",
       "      <td>menake</td>\n",
       "      <td>1.001e+11</td>\n",
       "      <td>761160532v</td>\n",
       "      <td>929100000003</td>\n",
       "      <td>Y</td>\n",
       "      <td>M</td>\n",
       "      <td>Married</td>\n",
       "      <td>25-04-1976</td>\n",
       "      <td>Thalahena</td>\n",
       "      <td>STF</td>\n",
       "      <td>...</td>\n",
       "      <td>5400106.01</td>\n",
       "      <td>689001.0</td>\n",
       "      <td>0.0</td>\n",
       "      <td>1000.0</td>\n",
       "      <td>20100.0</td>\n",
       "      <td>26.0</td>\n",
       "      <td>369616.11</td>\n",
       "      <td>50.0</td>\n",
       "      <td>NaN</td>\n",
       "      <td>NaN</td>\n",
       "    </tr>\n",
       "    <tr>\n",
       "      <th>1</th>\n",
       "      <td>wiggin</td>\n",
       "      <td>1.00105e+11</td>\n",
       "      <td>862102045V</td>\n",
       "      <td>929100000008</td>\n",
       "      <td>Y</td>\n",
       "      <td>M</td>\n",
       "      <td>Single</td>\n",
       "      <td>28-07-1986</td>\n",
       "      <td>kandy</td>\n",
       "      <td>STF</td>\n",
       "      <td>...</td>\n",
       "      <td>583679.18</td>\n",
       "      <td>0.0</td>\n",
       "      <td>0.0</td>\n",
       "      <td>0.0</td>\n",
       "      <td>17450.0</td>\n",
       "      <td>24.0</td>\n",
       "      <td>372179.17</td>\n",
       "      <td>23.0</td>\n",
       "      <td>88746.0</td>\n",
       "      <td>43.0</td>\n",
       "    </tr>\n",
       "    <tr>\n",
       "      <th>2</th>\n",
       "      <td>manjula</td>\n",
       "      <td>1.001e+11</td>\n",
       "      <td>732110577V</td>\n",
       "      <td>929100000010</td>\n",
       "      <td>Y</td>\n",
       "      <td>M</td>\n",
       "      <td>Married</td>\n",
       "      <td>29-07-1973</td>\n",
       "      <td>Ragama</td>\n",
       "      <td>STF</td>\n",
       "      <td>...</td>\n",
       "      <td>1104248.02</td>\n",
       "      <td>860280.0</td>\n",
       "      <td>0.0</td>\n",
       "      <td>28500.0</td>\n",
       "      <td>14500.0</td>\n",
       "      <td>30.0</td>\n",
       "      <td>319242.00</td>\n",
       "      <td>44.0</td>\n",
       "      <td>NaN</td>\n",
       "      <td>NaN</td>\n",
       "    </tr>\n",
       "  </tbody>\n",
       "</table>\n",
       "<p>3 rows × 24 columns</p>\n",
       "</div>"
      ],
      "text/plain": [
       "   USER_ID CUST_ACCOUNT  NIC_NUMBER   CUST_REF_NO BANK_CUST_FLG V_GENDER  \\\n",
       "0   menake    1.001e+11  761160532v  929100000003             Y        M   \n",
       "1   wiggin  1.00105e+11  862102045V  929100000008             Y        M   \n",
       "2  manjula    1.001e+11  732110577V  929100000010             Y        M   \n",
       "\n",
       "  V_CIVIL_STATUS  V_CUST_DOB     V_CITY CHARGE_PROFILE       ...        \\\n",
       "0        Married  25-04-1976  Thalahena            STF       ...         \n",
       "1         Single  28-07-1986      kandy            STF       ...         \n",
       "2        Married  29-07-1973     Ragama            STF       ...         \n",
       "\n",
       "  V_OT_TXN_AMOUNT_LKR V_RA_TXN_AMOUNT_LKR  V_RT_TXN_AMOUNT_LKR  \\\n",
       "0          5400106.01            689001.0                  0.0   \n",
       "1           583679.18                 0.0                  0.0   \n",
       "2          1104248.02            860280.0                  0.0   \n",
       "\n",
       "   V_MC_TXN_AMOUNT_LKR  V_TT_TXN_AMOUNT_LKR  V_TXN_CNT  \\\n",
       "0               1000.0              20100.0       26.0   \n",
       "1                  0.0              17450.0       24.0   \n",
       "2              28500.0              14500.0       30.0   \n",
       "\n",
       "   V_PMNT_TRANSACTION_AMT_LKR  V_PMNT_COUNT  V_SCH_PMNT_AMOUNT_LKR  \\\n",
       "0                   369616.11          50.0                    NaN   \n",
       "1                   372179.17          23.0                88746.0   \n",
       "2                   319242.00          44.0                    NaN   \n",
       "\n",
       "   V_SCH_PMNT_CNT  \n",
       "0             NaN  \n",
       "1            43.0  \n",
       "2             NaN  \n",
       "\n",
       "[3 rows x 24 columns]"
      ]
     },
     "execution_count": 274,
     "metadata": {},
     "output_type": "execute_result"
    }
   ],
   "source": [
    "vishwaDF['CUST_ID']=vishwaDF['CUST_ID'].astype(str)\n",
    "print(vishwaDF.shape)\n",
    "vishwaDF.head(3)"
   ]
  },
  {
   "cell_type": "markdown",
   "metadata": {},
   "source": [
    "# Extracting Basic Customer data "
   ]
  },
  {
   "cell_type": "code",
   "execution_count": 116,
   "metadata": {},
   "outputs": [
    {
     "data": {
      "text/plain": [
       "\"select crm.core_cust_id as CUST_ID,lower(crm.uniqueidnumber),crm.gender,crm.staffflag,crm.card_holder, (EXTRACT(YEAR FROM SYSDATE)-crm.birth_year) CUST_AGE ,crm.cust_type,crm.occupation,crm.city,(LAST_DAY(add_months(trunc(sysdate,'mm'),-1))-crm.relationshipopeningdate) BANK_CUST_AGE_DAYS, crm.seniorcitizen,crm.blacklisted,crm.negated,crm.suspended from crmuser.accounts crm inner join (select distinct cust_id from tbaadm.svr_cust_id_table) svr on crm.core_cust_id=svr.cust_id\""
      ]
     },
     "execution_count": 116,
     "metadata": {},
     "output_type": "execute_result"
    }
   ],
   "source": [
    "custQuery='select crm.core_cust_id as CUST_ID,lower(crm.uniqueidnumber),crm.gender,crm.staffflag,crm.card_holder, \\\n",
    "(EXTRACT(YEAR FROM SYSDATE)-crm.birth_year) CUST_AGE \\\n",
    ",crm.cust_type,crm.occupation,crm.city,(LAST_DAY(add_months(trunc(sysdate,\\'mm\\'),-1))-crm.relationshipopeningdate) BANK_CUST_AGE_DAYS, \\\n",
    "crm.seniorcitizen,crm.blacklisted,crm.negated,crm.suspended \\\n",
    "from crmuser.accounts crm \\\n",
    "inner join (select distinct cust_id from tbaadm.svr_cust_id_table) svr on crm.core_cust_id=svr.cust_id'\n",
    "\n",
    "custQuery"
   ]
  },
  {
   "cell_type": "code",
   "execution_count": 117,
   "metadata": {},
   "outputs": [],
   "source": [
    "#Vishwa Customer related data extraction \n",
    "def get_raw_Customer(connection,queryString):\n",
    "    logging.info(\" Customer data extraction started\")\n",
    "    df = pd.read_sql(queryString,con=connection)\n",
    "    logging.info(\"customer data extraction completed\")\n",
    "    return df \n",
    "customer=get_raw_Customer(connection_182,custQuery)"
   ]
  },
  {
   "cell_type": "code",
   "execution_count": 186,
   "metadata": {},
   "outputs": [
    {
     "name": "stdout",
     "output_type": "stream",
     "text": [
      "(312262, 14)\n"
     ]
    }
   ],
   "source": [
    "customer['CUST_ID']=customer['CUST_ID'].astype(str)\n",
    "print(customer.shape)\n",
    "customer.head(3)"
   ]
  },
  {
   "cell_type": "markdown",
   "metadata": {},
   "source": [
    "# Pawnning Data Extraction "
   ]
  },
  {
   "cell_type": "code",
   "execution_count": 170,
   "metadata": {},
   "outputs": [
    {
     "data": {
      "text/plain": [
       "\"select lower(a.PTCUSID) AS P_NIC_NUMBER,SUM(case when ptstatus='R' then 1 else 0 end) PTSTATUS_R, SUM(case when ptstatus='A' then 1 else 0 end) PTSTATUS_A,SUM(case when ptstatus='C' then 1 else 0 end) PTSTATUS_C, sum(PTDECLAREDVALUE) as PTVALUE from tbaadm.pawnticket a inner join tbaadm.advance b on a.ptnum=b.advptnum GROUP BY lower(a.ptcusid)\""
      ]
     },
     "execution_count": 170,
     "metadata": {},
     "output_type": "execute_result"
    }
   ],
   "source": [
    "pawnCustomer='select lower(a.PTCUSID) AS P_NIC_NUMBER,SUM(case when ptstatus=\\'R\\' then 1 else 0 end) PTSTATUS_R, \\\n",
    "SUM(case when ptstatus=\\'A\\' then 1 else 0 end) PTSTATUS_A,SUM(case when ptstatus=\\'C\\' then 1 else 0 end) PTSTATUS_C, \\\n",
    "sum(PTDECLAREDVALUE) as PTVALUE \\\n",
    "from tbaadm.pawnticket a \\\n",
    "inner join tbaadm.advance b on a.ptnum=b.advptnum \\\n",
    "GROUP BY lower(a.ptcusid)'\n",
    "pawnCustomer"
   ]
  },
  {
   "cell_type": "code",
   "execution_count": 171,
   "metadata": {},
   "outputs": [],
   "source": [
    "def get_raw_pawnCustomer(connection,queryString):\n",
    "    logging.info(\"pawning customer data extraction started\")\n",
    "    df = pd.read_sql(queryString,con=connection)\n",
    "    logging.info(\"pawning customer data extraction completed\")\n",
    "    return df \n",
    "\n",
    "pawnCustomer=get_raw_pawnCustomer(connection_182,pawnCustomer)"
   ]
  },
  {
   "cell_type": "code",
   "execution_count": 46,
   "metadata": {},
   "outputs": [
    {
     "data": {
      "text/html": [
       "<div>\n",
       "<style scoped>\n",
       "    .dataframe tbody tr th:only-of-type {\n",
       "        vertical-align: middle;\n",
       "    }\n",
       "\n",
       "    .dataframe tbody tr th {\n",
       "        vertical-align: top;\n",
       "    }\n",
       "\n",
       "    .dataframe thead th {\n",
       "        text-align: right;\n",
       "    }\n",
       "</style>\n",
       "<table border=\"1\" class=\"dataframe\">\n",
       "  <thead>\n",
       "    <tr style=\"text-align: right;\">\n",
       "      <th></th>\n",
       "      <th>P_NIC_NUMBER</th>\n",
       "      <th>PTSTATUS_R</th>\n",
       "      <th>PTSTATUS_A</th>\n",
       "      <th>PTSTATUS_C</th>\n",
       "      <th>PTVALUE</th>\n",
       "    </tr>\n",
       "  </thead>\n",
       "  <tbody>\n",
       "    <tr>\n",
       "      <th>0</th>\n",
       "      <td>911350998v</td>\n",
       "      <td>0</td>\n",
       "      <td>1</td>\n",
       "      <td>0</td>\n",
       "      <td>20472</td>\n",
       "    </tr>\n",
       "    <tr>\n",
       "      <th>1</th>\n",
       "      <td>396322</td>\n",
       "      <td>1</td>\n",
       "      <td>0</td>\n",
       "      <td>0</td>\n",
       "      <td>13379</td>\n",
       "    </tr>\n",
       "    <tr>\n",
       "      <th>2</th>\n",
       "      <td>511293790v</td>\n",
       "      <td>0</td>\n",
       "      <td>1</td>\n",
       "      <td>0</td>\n",
       "      <td>623767</td>\n",
       "    </tr>\n",
       "  </tbody>\n",
       "</table>\n",
       "</div>"
      ],
      "text/plain": [
       "   P_NIC_NUMBER  PTSTATUS_R  PTSTATUS_A  PTSTATUS_C  PTVALUE\n",
       "0    911350998v           0           1           0    20472\n",
       "1        396322           1           0           0    13379\n",
       "2    511293790v           0           1           0   623767"
      ]
     },
     "execution_count": 46,
     "metadata": {},
     "output_type": "execute_result"
    }
   ],
   "source": [
    "#pawnCustomer=pd.read_csv(\"pawnCustomer.csv\")\n",
    "pawnCustomer.head(3)"
   ]
  },
  {
   "cell_type": "markdown",
   "metadata": {},
   "source": [
    "# ATM Transaction data Extraction "
   ]
  },
  {
   "cell_type": "code",
   "execution_count": null,
   "metadata": {},
   "outputs": [],
   "source": [
    "txnATMQuery='select b.cust_id AS CUST_ID,Extract(month from added_date) AS ATM_TRXN_MONTH ,SUM(bill_amt) ATM_TRXN_BILL_AMT, \\\n",
    "SUM(trxn_amt) AS ATM_TRXN_AMT \\\n",
    "from stg.stg_swt_dx_trxn_all a \\\n",
    "inner join tbaadm.gam@stagelink b on a.orgn_acct_id=b.foracid \\\n",
    "where merc_cat_code in (\\'6011\\',\\'6010\\') and stat_code=1 and orgn_acct_id <> \\'NA\\' \\\n",
    "and added_date>= add_months(trunc(sysdate,\\'mm\\'),-6) AND added_date<= LAST_DAY(add_months(trunc(sysdate,\\'mm\\'),-1)) \\\n",
    "GROUP BY b.cust_id,Extract(month from added_date)'\n",
    "txnATMQuery"
   ]
  },
  {
   "cell_type": "code",
   "execution_count": null,
   "metadata": {},
   "outputs": [],
   "source": [
    "def get_raw_txnATM(connection,queryString):\n",
    "    logging.info(\"ATM Transactional data extraction started\")\n",
    "    df = pd.read_sql(queryString,con=connection)\n",
    "    logging.info(\"ATM Transactional data extraction completed\")\n",
    "    return df \n",
    "\n",
    "txnATM=get_raw_txnATM(connection_172,txnATMQuery)\n",
    "#print(txnATM.head(5))"
   ]
  },
  {
   "cell_type": "code",
   "execution_count": 441,
   "metadata": {},
   "outputs": [
    {
     "data": {
      "text/plain": [
       "'302159564'"
      ]
     },
     "execution_count": 441,
     "metadata": {},
     "output_type": "execute_result"
    }
   ],
   "source": [
    "#txnATM=pd.read_csv(\"txnATM.csv\")\n",
    "txnATM['CUST_ID']=txnATM['CUST_ID'].astype(str)"
   ]
  },
  {
   "cell_type": "code",
   "execution_count": null,
   "metadata": {},
   "outputs": [],
   "source": []
  },
  {
   "cell_type": "markdown",
   "metadata": {},
   "source": [
    "# POS Transaction data extraction "
   ]
  },
  {
   "cell_type": "code",
   "execution_count": 220,
   "metadata": {},
   "outputs": [
    {
     "data": {
      "text/plain": [
       "\"select b.cust_id AS CUST_ID,Extract(month from added_date) AS POS_TRXN_MONTH ,SUM(bill_amt) POS_TRXN_BILL_AMT ,SUM(trxn_amt) AS POS_TRXN_AMT from stg.stg_swt_dx_trxn_all a inner join tbaadm.gam@stagelink b on a.orgn_acct_id=b.foracid where merc_cat_code not in ('6011','6010')  and orgn_acct_id <> 'NA' AND merc_cat_code <> 'NA' and merc_cat_code is not null and added_date>= add_months(trunc(sysdate,'mm'),-6) AND added_date<= LAST_DAY(add_months(trunc(sysdate,'mm'),-1)) GROUP BY b.cust_id,Extract(month from added_date)\""
      ]
     },
     "execution_count": 220,
     "metadata": {},
     "output_type": "execute_result"
    }
   ],
   "source": [
    "txnPOSQuery='select b.cust_id AS CUST_ID,Extract(month from added_date) AS POS_TRXN_MONTH ,SUM(bill_amt) POS_TRXN_BILL_AMT \\\n",
    ",SUM(trxn_amt) AS POS_TRXN_AMT \\\n",
    "from stg.stg_swt_dx_trxn_all a \\\n",
    "inner join tbaadm.gam@stagelink b on a.orgn_acct_id=b.foracid \\\n",
    "where merc_cat_code not in (\\'6011\\',\\'6010\\')  and orgn_acct_id <> \\'NA\\' \\\n",
    "AND merc_cat_code <> \\'NA\\' and merc_cat_code is not null \\\n",
    "and added_date>= add_months(trunc(sysdate,\\'mm\\'),-6) AND added_date<= LAST_DAY(add_months(trunc(sysdate,\\'mm\\'),-1)) \\\n",
    "GROUP BY b.cust_id,Extract(month from added_date)'\n",
    "txnPOSQuery"
   ]
  },
  {
   "cell_type": "code",
   "execution_count": null,
   "metadata": {},
   "outputs": [],
   "source": [
    "def get_raw_txnPOS(connection,queryString):\n",
    "    logging.info(\"POS Transactional data extraction started\")\n",
    "    df = pd.read_sql(queryString,con=connection)\n",
    "    logging.info(\"POS Transactional data extraction completed\")\n",
    "    return df \n",
    "\n",
    "txnPOS=get_raw_txnPOS(connection_172,txnPOSQuery)"
   ]
  },
  {
   "cell_type": "code",
   "execution_count": 340,
   "metadata": {},
   "outputs": [],
   "source": [
    "#Consider this when reading from excel file \n",
    "#txnPOS=pd.read_csv(\"txnPOS.csv\")\n",
    "#CUST_ID=txnPOS['CUST_ID'].fillna(0).astype(int).astype(str)\n",
    "#txnPOS['CUST_ID']=CUST_ID"
   ]
  },
  {
   "cell_type": "code",
   "execution_count": 345,
   "metadata": {},
   "outputs": [
    {
     "data": {
      "text/html": [
       "<div>\n",
       "<style scoped>\n",
       "    .dataframe tbody tr th:only-of-type {\n",
       "        vertical-align: middle;\n",
       "    }\n",
       "\n",
       "    .dataframe tbody tr th {\n",
       "        vertical-align: top;\n",
       "    }\n",
       "\n",
       "    .dataframe thead th {\n",
       "        text-align: right;\n",
       "    }\n",
       "</style>\n",
       "<table border=\"1\" class=\"dataframe\">\n",
       "  <thead>\n",
       "    <tr style=\"text-align: right;\">\n",
       "      <th></th>\n",
       "      <th>CUST_ID</th>\n",
       "      <th>POS_TRXN_MONTH</th>\n",
       "      <th>POS_TRXN_BILL_AMT</th>\n",
       "      <th>POS_TRXN_AMT</th>\n",
       "    </tr>\n",
       "  </thead>\n",
       "  <tbody>\n",
       "    <tr>\n",
       "      <th>0</th>\n",
       "      <td>302139509</td>\n",
       "      <td>5</td>\n",
       "      <td>4125777</td>\n",
       "      <td>102274996</td>\n",
       "    </tr>\n",
       "    <tr>\n",
       "      <th>1</th>\n",
       "      <td>300920854</td>\n",
       "      <td>5</td>\n",
       "      <td>690825</td>\n",
       "      <td>4287</td>\n",
       "    </tr>\n",
       "    <tr>\n",
       "      <th>2</th>\n",
       "      <td>302291696</td>\n",
       "      <td>5</td>\n",
       "      <td>144965</td>\n",
       "      <td>900</td>\n",
       "    </tr>\n",
       "    <tr>\n",
       "      <th>3</th>\n",
       "      <td>303271529</td>\n",
       "      <td>5</td>\n",
       "      <td>636052</td>\n",
       "      <td>550299</td>\n",
       "    </tr>\n",
       "    <tr>\n",
       "      <th>4</th>\n",
       "      <td>302446992</td>\n",
       "      <td>5</td>\n",
       "      <td>620200</td>\n",
       "      <td>620200</td>\n",
       "    </tr>\n",
       "  </tbody>\n",
       "</table>\n",
       "</div>"
      ],
      "text/plain": [
       "     CUST_ID  POS_TRXN_MONTH  POS_TRXN_BILL_AMT  POS_TRXN_AMT\n",
       "0  302139509               5            4125777     102274996\n",
       "1  300920854               5             690825          4287\n",
       "2  302291696               5             144965           900\n",
       "3  303271529               5             636052        550299\n",
       "4  302446992               5             620200        620200"
      ]
     },
     "execution_count": 345,
     "metadata": {},
     "output_type": "execute_result"
    }
   ],
   "source": [
    "txnPS['CUST_ID']=txnPOS['CUST_ID'].astype(str)\n",
    "txnPOS.head(5)\n",
    "#txnPOS.dtypes"
   ]
  },
  {
   "cell_type": "code",
   "execution_count": 337,
   "metadata": {},
   "outputs": [
    {
     "data": {
      "text/plain": [
       "CUST_ID              object\n",
       "POS_TRXN_MONTH        int64\n",
       "POS_TRXN_BILL_AMT     int64\n",
       "POS_TRXN_AMT          int64\n",
       "dtype: object"
      ]
     },
     "execution_count": 337,
     "metadata": {},
     "output_type": "execute_result"
    }
   ],
   "source": [
    "txnPOS.dtypes"
   ]
  },
  {
   "cell_type": "markdown",
   "metadata": {},
   "source": [
    "# ATM and POS Aggregration"
   ]
  },
  {
   "cell_type": "code",
   "execution_count": 245,
   "metadata": {},
   "outputs": [],
   "source": [
    "txnATMSum=txnATM[['CUST_ID','ATM_TRXN_BILL_AMT']].groupby(['CUST_ID']).mean()\n",
    "txnATMSum['CUST_ID']=txnATMSum.index\n",
    "txnATMSum['CUST_ID']=txnATMSum['CUST_ID'].astype(str)\n",
    "txnATMSum.head(3)\n",
    "\n",
    "txnPOSSum=txnPOS[['CUST_ID','POS_TRXN_BILL_AMT']].groupby(['CUST_ID']).mean()\n",
    "txnPOSSum['CUST_ID']=txnPOSSum.index\n",
    "txnPOSSum['CUST_ID']=txnPOSSum['CUST_ID'].astype(str)\n",
    "txnPOSSum.head(3)"
   ]
  },
  {
   "cell_type": "markdown",
   "metadata": {},
   "source": [
    "# Fixed deposit data extraction "
   ]
  },
  {
   "cell_type": "code",
   "execution_count": null,
   "metadata": {},
   "outputs": [],
   "source": [
    "fdQuery='select a.cust_id, \\\n",
    "sum(case when acct_cls_flg=\\'Y\\' then 1 else 0 end) FD_CLS_CNT,sum(case when acct_cls_flg=\\'N\\' then 1 else 0 end) FD_ACTV_CNT, \\\n",
    "SUM(CLR_BAL_AMT) FD_AMOUNT_SUM \\\n",
    "from tbaadm.gam@stagelink a \\\n",
    "left join DWH.dim_dayend_product b on a.schm_code=b.schm_code \\\n",
    "where lower(product_sub_type) like \\'%fixed%\\' \\\n",
    "GROUP BY a.cust_id'\n",
    "fdQuery"
   ]
  },
  {
   "cell_type": "code",
   "execution_count": null,
   "metadata": {},
   "outputs": [],
   "source": [
    "def get_raw_fd(connection,queryString):\n",
    "    logging.info(\"Fixed deposit data extraction started\")\n",
    "    df = pd.read_sql(queryString,con=connection)\n",
    "    logging.info(\"Fixed deposit data extraction completed\")\n",
    "    return df \n",
    "\n",
    "fd=get_raw_fd(connection_172,fdQuery)"
   ]
  },
  {
   "cell_type": "code",
   "execution_count": 266,
   "metadata": {},
   "outputs": [
    {
     "data": {
      "text/html": [
       "<div>\n",
       "<style scoped>\n",
       "    .dataframe tbody tr th:only-of-type {\n",
       "        vertical-align: middle;\n",
       "    }\n",
       "\n",
       "    .dataframe tbody tr th {\n",
       "        vertical-align: top;\n",
       "    }\n",
       "\n",
       "    .dataframe thead th {\n",
       "        text-align: right;\n",
       "    }\n",
       "</style>\n",
       "<table border=\"1\" class=\"dataframe\">\n",
       "  <thead>\n",
       "    <tr style=\"text-align: right;\">\n",
       "      <th></th>\n",
       "      <th>CUST_ID</th>\n",
       "      <th>FD_CLS_CNT</th>\n",
       "      <th>FD_ACTV_CNT</th>\n",
       "      <th>FD_AMOUNT_SUM</th>\n",
       "    </tr>\n",
       "  </thead>\n",
       "  <tbody>\n",
       "    <tr>\n",
       "      <th>0</th>\n",
       "      <td>200468341</td>\n",
       "      <td>61</td>\n",
       "      <td>5</td>\n",
       "      <td>4200000.0</td>\n",
       "    </tr>\n",
       "    <tr>\n",
       "      <th>1</th>\n",
       "      <td>200286004</td>\n",
       "      <td>43</td>\n",
       "      <td>0</td>\n",
       "      <td>0.0</td>\n",
       "    </tr>\n",
       "    <tr>\n",
       "      <th>2</th>\n",
       "      <td>200038790</td>\n",
       "      <td>23</td>\n",
       "      <td>4</td>\n",
       "      <td>1839208.3</td>\n",
       "    </tr>\n",
       "  </tbody>\n",
       "</table>\n",
       "</div>"
      ],
      "text/plain": [
       "     CUST_ID  FD_CLS_CNT  FD_ACTV_CNT  FD_AMOUNT_SUM\n",
       "0  200468341          61            5      4200000.0\n",
       "1  200286004          43            0            0.0\n",
       "2  200038790          23            4      1839208.3"
      ]
     },
     "execution_count": 266,
     "metadata": {},
     "output_type": "execute_result"
    }
   ],
   "source": [
    "fd['CUST_ID']=fd['CUST_ID'].astype(str)\n",
    "fd.head(3)"
   ]
  },
  {
   "cell_type": "markdown",
   "metadata": {},
   "source": [
    "# ODA Data extraction"
   ]
  },
  {
   "cell_type": "code",
   "execution_count": null,
   "metadata": {},
   "outputs": [],
   "source": [
    "odQuery='select a.cust_id, \\\n",
    "sum(case when acct_cls_flg=\\'Y\\' then 1 else 0 end) ODA_CLS_CNT, \\\n",
    "sum(case when acct_cls_flg=\\'N\\' then 1 else 0 end) ODA_ACTV_CNT, \\\n",
    "SUM(CLR_BAL_AMT) ODA_AMOUNT_TOT \\\n",
    "from tbaadm.gam@stagelink a \\\n",
    "WHERE SCHM_TYPE=\\'ODA\\' \\\n",
    "GROUP BY a.cust_id'\n",
    "odQuery"
   ]
  },
  {
   "cell_type": "code",
   "execution_count": null,
   "metadata": {},
   "outputs": [],
   "source": [
    "def get_raw_oda(connection,queryString):\n",
    "    logging.info(\"over draft data extraction started\")\n",
    "    df = pd.read_sql(queryString,con=connection)\n",
    "    logging.info(\"over draft data extraction completed\")\n",
    "    return df \n",
    "\n",
    "oda=get_raw_oda(connection_172,odQuery)"
   ]
  },
  {
   "cell_type": "code",
   "execution_count": 70,
   "metadata": {},
   "outputs": [
    {
     "data": {
      "text/html": [
       "<div>\n",
       "<style scoped>\n",
       "    .dataframe tbody tr th:only-of-type {\n",
       "        vertical-align: middle;\n",
       "    }\n",
       "\n",
       "    .dataframe tbody tr th {\n",
       "        vertical-align: top;\n",
       "    }\n",
       "\n",
       "    .dataframe thead th {\n",
       "        text-align: right;\n",
       "    }\n",
       "</style>\n",
       "<table border=\"1\" class=\"dataframe\">\n",
       "  <thead>\n",
       "    <tr style=\"text-align: right;\">\n",
       "      <th></th>\n",
       "      <th>CUST_ID</th>\n",
       "      <th>ODA_CLS_CNT</th>\n",
       "      <th>ODA_ACTV_CNT</th>\n",
       "      <th>ODA_AMOUNT_TOT</th>\n",
       "    </tr>\n",
       "  </thead>\n",
       "  <tbody>\n",
       "    <tr>\n",
       "      <th>0</th>\n",
       "      <td>26972</td>\n",
       "      <td>1</td>\n",
       "      <td>0</td>\n",
       "      <td>0.0</td>\n",
       "    </tr>\n",
       "    <tr>\n",
       "      <th>1</th>\n",
       "      <td>PW004</td>\n",
       "      <td>1</td>\n",
       "      <td>0</td>\n",
       "      <td>0.0</td>\n",
       "    </tr>\n",
       "    <tr>\n",
       "      <th>2</th>\n",
       "      <td>BROPEN</td>\n",
       "      <td>2</td>\n",
       "      <td>0</td>\n",
       "      <td>0.0</td>\n",
       "    </tr>\n",
       "  </tbody>\n",
       "</table>\n",
       "</div>"
      ],
      "text/plain": [
       "     CUST_ID  ODA_CLS_CNT  ODA_ACTV_CNT  ODA_AMOUNT_TOT\n",
       "0      26972            1             0             0.0\n",
       "1      PW004            1             0             0.0\n",
       "2     BROPEN            2             0             0.0"
      ]
     },
     "execution_count": 70,
     "metadata": {},
     "output_type": "execute_result"
    }
   ],
   "source": [
    "oda['CUST_ID']=oda['CUST_ID'].astype(str)\n",
    "oda.head(3)"
   ]
  },
  {
   "cell_type": "markdown",
   "metadata": {},
   "source": [
    "# Loan Data Extraction "
   ]
  },
  {
   "cell_type": "code",
   "execution_count": 37,
   "metadata": {},
   "outputs": [
    {
     "data": {
      "text/plain": [
       "\"select A.CUST_ID, SUM(case when acct_cls_flg='Y' then 1 else 0 end) INACTV_LOAN_CNT, SUM(case when acct_cls_flg='N' then 1 else 0 end) ACTV_LOAN_CNT, SUM(case when acct_cls_flg='Y' then a.SANCT_LIM else 0 end) INACTV_LOAN_LIM_TOT, SUM(case when acct_cls_flg='N' then a.SANCT_LIM else 0 end) ACTV_LOAN__LIM_TOT, SUM(CLR_BAL_AMT) AS TOT_BAL, MAX(a.SANCT_LIM) MAX_LOAN_LIM, MIN(a.SANCT_LIM) MIN_LOAN__LIM, (LAST_DAY(add_months(trunc(sysdate,'mm'),-1))-MAX(a.ACCT_OPN_DATE)) LAST_LOAN_AGE_DAYS, (LAST_DAY(add_months(trunc(sysdate,'mm'),-1))-MIN(a.ACCT_OPN_DATE)) FIRST_LOAN_AGE_DAYS, sum(case when lower(our_product_group) like '%staff%' then 1 else 0 end) STAFF_LOAN_CNT, sum(case when lower(our_product_group) like '%short%' then 1 else 0 end) ST_LOAN_CNT, sum(case when lower(our_product_group) like '%medium%' then 1 else 0 end) MT_LOAN_CNT, sum(case when lower(our_product_group) like '%long%' then 1 else 0 end) LT_LOAN_CNT, sum(case when lower(our_product_group) like '%housing%' then 1 else 0 end) HOUSING_LOAN_CNT from tbaadm.gam@stagelink a inner join (select distinct schm_code,our_product_group from stg.f10_ccu_adv_portfolio) b on a.schm_code=b.schm_code and lower(b.our_product_group) like '%loan%' group by a.cust_id \""
      ]
     },
     "execution_count": 37,
     "metadata": {},
     "output_type": "execute_result"
    }
   ],
   "source": [
    "loanQuery='select A.CUST_ID, \\\n",
    "SUM(case when acct_cls_flg=\\'Y\\' then 1 else 0 end) INACTV_LOAN_CNT, \\\n",
    "SUM(case when acct_cls_flg=\\'N\\' then 1 else 0 end) ACTV_LOAN_CNT, \\\n",
    "SUM(case when acct_cls_flg=\\'Y\\' then a.SANCT_LIM else 0 end) INACTV_LOAN_LIM_TOT, \\\n",
    "SUM(case when acct_cls_flg=\\'N\\' then a.SANCT_LIM else 0 end) ACTV_LOAN__LIM_TOT, \\\n",
    "SUM(CLR_BAL_AMT) AS TOT_BAL, \\\n",
    "MAX(a.SANCT_LIM) MAX_LOAN_LIM, \\\n",
    "MIN(a.SANCT_LIM) MIN_LOAN__LIM, \\\n",
    "(LAST_DAY(add_months(trunc(sysdate,\\'mm\\'),-1))-MAX(a.ACCT_OPN_DATE)) LAST_LOAN_AGE_DAYS, \\\n",
    "(LAST_DAY(add_months(trunc(sysdate,\\'mm\\'),-1))-MIN(a.ACCT_OPN_DATE)) FIRST_LOAN_AGE_DAYS, \\\n",
    "sum(case when lower(our_product_group) like \\'%staff%\\' then 1 else 0 end) STAFF_LOAN_CNT, \\\n",
    "sum(case when lower(our_product_group) like \\'%short%\\' then 1 else 0 end) ST_LOAN_CNT, \\\n",
    "sum(case when lower(our_product_group) like \\'%medium%\\' then 1 else 0 end) MT_LOAN_CNT, \\\n",
    "sum(case when lower(our_product_group) like \\'%long%\\' then 1 else 0 end) LT_LOAN_CNT, \\\n",
    "sum(case when lower(our_product_group) like \\'%housing%\\' then 1 else 0 end) HOUSING_LOAN_CNT \\\n",
    "from tbaadm.gam@stagelink a \\\n",
    "inner join (select distinct schm_code,our_product_group from stg.f10_ccu_adv_portfolio) b on a.schm_code=b.schm_code \\\n",
    "and lower(b.our_product_group) like \\'%loan%\\' \\\n",
    "group by a.cust_id '\n",
    "loanQuery"
   ]
  },
  {
   "cell_type": "code",
   "execution_count": null,
   "metadata": {},
   "outputs": [],
   "source": [
    "def get_raw_loan(connection,queryString):\n",
    "    logging.info(\"loan data extraction started\")\n",
    "    df = pd.read_sql(queryString,con=connection)\n",
    "    logging.info(\"loan data extraction completed\")\n",
    "    return df \n",
    "\n",
    "loan=get_raw_loan(connection_172,loanQuery)"
   ]
  },
  {
   "cell_type": "code",
   "execution_count": 71,
   "metadata": {},
   "outputs": [
    {
     "data": {
      "text/html": [
       "<div>\n",
       "<style scoped>\n",
       "    .dataframe tbody tr th:only-of-type {\n",
       "        vertical-align: middle;\n",
       "    }\n",
       "\n",
       "    .dataframe tbody tr th {\n",
       "        vertical-align: top;\n",
       "    }\n",
       "\n",
       "    .dataframe thead th {\n",
       "        text-align: right;\n",
       "    }\n",
       "</style>\n",
       "<table border=\"1\" class=\"dataframe\">\n",
       "  <thead>\n",
       "    <tr style=\"text-align: right;\">\n",
       "      <th></th>\n",
       "      <th>CUST_ID</th>\n",
       "      <th>INACTV_LOAN_CNT</th>\n",
       "      <th>ACTV_LOAN_CNT</th>\n",
       "      <th>INACTV_LOAN_LIM_TOT</th>\n",
       "      <th>ACTV_LOAN__LIM_TOT</th>\n",
       "      <th>TOT_BAL</th>\n",
       "      <th>MAX_LOAN_LIM</th>\n",
       "      <th>MIN_LOAN__LIM</th>\n",
       "      <th>LAST_LOAN_AGE_DAYS</th>\n",
       "      <th>FIRST_LOAN_AGE_DAYS</th>\n",
       "      <th>STAFF_LOAN_CNT</th>\n",
       "      <th>ST_LOAN_CNT</th>\n",
       "      <th>MT_LOAN_CNT</th>\n",
       "      <th>LT_LOAN_CNT</th>\n",
       "      <th>HOUSING_LOAN_CNT</th>\n",
       "    </tr>\n",
       "  </thead>\n",
       "  <tbody>\n",
       "    <tr>\n",
       "      <th>0</th>\n",
       "      <td>200261078</td>\n",
       "      <td>9</td>\n",
       "      <td>16</td>\n",
       "      <td>4589950.0</td>\n",
       "      <td>7074000.0</td>\n",
       "      <td>-4.628907e+06</td>\n",
       "      <td>2200000.0</td>\n",
       "      <td>45000.0</td>\n",
       "      <td>21</td>\n",
       "      <td>7574</td>\n",
       "      <td>25</td>\n",
       "      <td>0</td>\n",
       "      <td>0</td>\n",
       "      <td>0</td>\n",
       "      <td>0</td>\n",
       "    </tr>\n",
       "    <tr>\n",
       "      <th>1</th>\n",
       "      <td>200121228</td>\n",
       "      <td>3</td>\n",
       "      <td>0</td>\n",
       "      <td>47000.0</td>\n",
       "      <td>0.0</td>\n",
       "      <td>0.000000e+00</td>\n",
       "      <td>30000.0</td>\n",
       "      <td>7000.0</td>\n",
       "      <td>5615</td>\n",
       "      <td>7384</td>\n",
       "      <td>0</td>\n",
       "      <td>0</td>\n",
       "      <td>3</td>\n",
       "      <td>0</td>\n",
       "      <td>0</td>\n",
       "    </tr>\n",
       "    <tr>\n",
       "      <th>2</th>\n",
       "      <td>200062899</td>\n",
       "      <td>1</td>\n",
       "      <td>1</td>\n",
       "      <td>1200000.0</td>\n",
       "      <td>0.0</td>\n",
       "      <td>1.087345e+05</td>\n",
       "      <td>1200000.0</td>\n",
       "      <td>0.0</td>\n",
       "      <td>5619</td>\n",
       "      <td>10193</td>\n",
       "      <td>1</td>\n",
       "      <td>0</td>\n",
       "      <td>0</td>\n",
       "      <td>0</td>\n",
       "      <td>1</td>\n",
       "    </tr>\n",
       "    <tr>\n",
       "      <th>3</th>\n",
       "      <td>NaN</td>\n",
       "      <td>4650</td>\n",
       "      <td>84442</td>\n",
       "      <td>0.0</td>\n",
       "      <td>0.0</td>\n",
       "      <td>-4.188258e+11</td>\n",
       "      <td>0.0</td>\n",
       "      <td>0.0</td>\n",
       "      <td>-2</td>\n",
       "      <td>7301</td>\n",
       "      <td>44546</td>\n",
       "      <td>0</td>\n",
       "      <td>0</td>\n",
       "      <td>0</td>\n",
       "      <td>0</td>\n",
       "    </tr>\n",
       "    <tr>\n",
       "      <th>4</th>\n",
       "      <td>200147327</td>\n",
       "      <td>1</td>\n",
       "      <td>0</td>\n",
       "      <td>100000.0</td>\n",
       "      <td>0.0</td>\n",
       "      <td>0.000000e+00</td>\n",
       "      <td>100000.0</td>\n",
       "      <td>100000.0</td>\n",
       "      <td>5615</td>\n",
       "      <td>5615</td>\n",
       "      <td>0</td>\n",
       "      <td>0</td>\n",
       "      <td>1</td>\n",
       "      <td>0</td>\n",
       "      <td>0</td>\n",
       "    </tr>\n",
       "  </tbody>\n",
       "</table>\n",
       "</div>"
      ],
      "text/plain": [
       "     CUST_ID  INACTV_LOAN_CNT  ACTV_LOAN_CNT  INACTV_LOAN_LIM_TOT  \\\n",
       "0  200261078                9             16            4589950.0   \n",
       "1  200121228                3              0              47000.0   \n",
       "2  200062899                1              1            1200000.0   \n",
       "3        NaN             4650          84442                  0.0   \n",
       "4  200147327                1              0             100000.0   \n",
       "\n",
       "   ACTV_LOAN__LIM_TOT       TOT_BAL  MAX_LOAN_LIM  MIN_LOAN__LIM  \\\n",
       "0           7074000.0 -4.628907e+06     2200000.0        45000.0   \n",
       "1                 0.0  0.000000e+00       30000.0         7000.0   \n",
       "2                 0.0  1.087345e+05     1200000.0            0.0   \n",
       "3                 0.0 -4.188258e+11           0.0            0.0   \n",
       "4                 0.0  0.000000e+00      100000.0       100000.0   \n",
       "\n",
       "   LAST_LOAN_AGE_DAYS  FIRST_LOAN_AGE_DAYS  STAFF_LOAN_CNT  ST_LOAN_CNT  \\\n",
       "0                  21                 7574              25            0   \n",
       "1                5615                 7384               0            0   \n",
       "2                5619                10193               1            0   \n",
       "3                  -2                 7301           44546            0   \n",
       "4                5615                 5615               0            0   \n",
       "\n",
       "   MT_LOAN_CNT  LT_LOAN_CNT  HOUSING_LOAN_CNT  \n",
       "0            0            0                 0  \n",
       "1            3            0                 0  \n",
       "2            0            0                 1  \n",
       "3            0            0                 0  \n",
       "4            1            0                 0  "
      ]
     },
     "execution_count": 71,
     "metadata": {},
     "output_type": "execute_result"
    }
   ],
   "source": [
    "loan['CUST_ID']=loan['CUST_ID'].astype(str)\n",
    "loan.head(5)"
   ]
  },
  {
   "cell_type": "markdown",
   "metadata": {},
   "source": [
    "# Lease data extraction "
   ]
  },
  {
   "cell_type": "code",
   "execution_count": 23,
   "metadata": {},
   "outputs": [
    {
     "data": {
      "text/plain": [
       "\"select A.CUST_ID, SUM(case when acct_cls_flg='Y' then 1 else 0 end) INACTV_LEASE_CNT, SUM(case when acct_cls_flg='N' then 1 else 0 end) ACTV_LEASE_CNT, SUM(case when acct_cls_flg='Y' then a.SANCT_LIM else 0 end) INACTV_LEASE_LIM_TOT, SUM(case when acct_cls_flg='N' then a.SANCT_LIM else 0 end) ACTV_LEASE__LIM_TOT, SUM(CLR_BAL_AMT) AS TOT_BAL, MAX(a.SANCT_LIM) MAX_LEASE_LIM, MIN(a.SANCT_LIM) MIN_LEASE__LIM, (LAST_DAY(add_months(trunc(sysdate,'mm'),-1))-MAX(a.ACCT_OPN_DATE)) LAST_LEASE_AGE_DAYS, (LAST_DAY(add_months(trunc(sysdate,'mm'),-1))-MIN(a.ACCT_OPN_DATE)) FIRST_LEASE_AGE_DAYS from tbaadm.gam@stagelink a inner join (select distinct schm_code,our_product_group from stg.f10_ccu_adv_portfolio) b on a.schm_code=b.schm_code and lower(b.our_product_group) like '%lease%' group by a.cust_id\""
      ]
     },
     "execution_count": 23,
     "metadata": {},
     "output_type": "execute_result"
    }
   ],
   "source": [
    "leaseQuery='select A.CUST_ID, \\\n",
    "SUM(case when acct_cls_flg=\\'Y\\' then 1 else 0 end) INACTV_LEASE_CNT, \\\n",
    "SUM(case when acct_cls_flg=\\'N\\' then 1 else 0 end) ACTV_LEASE_CNT, \\\n",
    "SUM(case when acct_cls_flg=\\'Y\\' then a.SANCT_LIM else 0 end) INACTV_LEASE_LIM_TOT, \\\n",
    "SUM(case when acct_cls_flg=\\'N\\' then a.SANCT_LIM else 0 end) ACTV_LEASE__LIM_TOT, \\\n",
    "SUM(CLR_BAL_AMT) AS TOT_BAL, \\\n",
    "MAX(a.SANCT_LIM) MAX_LEASE_LIM, \\\n",
    "MIN(a.SANCT_LIM) MIN_LEASE__LIM, \\\n",
    "(LAST_DAY(add_months(trunc(sysdate,\\'mm\\'),-1))-MAX(a.ACCT_OPN_DATE)) LAST_LEASE_AGE_DAYS, \\\n",
    "(LAST_DAY(add_months(trunc(sysdate,\\'mm\\'),-1))-MIN(a.ACCT_OPN_DATE)) FIRST_LEASE_AGE_DAYS \\\n",
    "from tbaadm.gam@stagelink a \\\n",
    "inner join (select distinct schm_code,our_product_group from stg.f10_ccu_adv_portfolio) b on a.schm_code=b.schm_code \\\n",
    "and lower(b.our_product_group) like \\'%lease%\\' \\\n",
    "group by a.cust_id'\n",
    "\n",
    "leaseQuery"
   ]
  },
  {
   "cell_type": "code",
   "execution_count": 24,
   "metadata": {},
   "outputs": [],
   "source": [
    "def get_raw_lease(connection,queryString):\n",
    "    logging.info(\"lease data extraction started\")\n",
    "    df = pd.read_sql(queryString,con=connection)\n",
    "    logging.info(\"lease data extraction completed\")\n",
    "    return df \n",
    "\n",
    "lease=get_raw_lease(connection_172,leaseQuery)"
   ]
  },
  {
   "cell_type": "code",
   "execution_count": 26,
   "metadata": {},
   "outputs": [
    {
     "data": {
      "text/html": [
       "<div>\n",
       "<style scoped>\n",
       "    .dataframe tbody tr th:only-of-type {\n",
       "        vertical-align: middle;\n",
       "    }\n",
       "\n",
       "    .dataframe tbody tr th {\n",
       "        vertical-align: top;\n",
       "    }\n",
       "\n",
       "    .dataframe thead th {\n",
       "        text-align: right;\n",
       "    }\n",
       "</style>\n",
       "<table border=\"1\" class=\"dataframe\">\n",
       "  <thead>\n",
       "    <tr style=\"text-align: right;\">\n",
       "      <th></th>\n",
       "      <th>CUST_ID</th>\n",
       "      <th>INACTV_LEASE_CNT</th>\n",
       "      <th>ACTV_LEASE_CNT</th>\n",
       "      <th>INACTV_LEASE_LIM_TOT</th>\n",
       "      <th>ACTV_LEASE__LIM_TOT</th>\n",
       "      <th>TOT_BAL</th>\n",
       "      <th>MAX_LEASE_LIM</th>\n",
       "      <th>MIN_LEASE__LIM</th>\n",
       "      <th>LAST_LEASE_AGE_DAYS</th>\n",
       "      <th>FIRST_LEASE_AGE_DAYS</th>\n",
       "    </tr>\n",
       "  </thead>\n",
       "  <tbody>\n",
       "    <tr>\n",
       "      <th>0</th>\n",
       "      <td>None</td>\n",
       "      <td>2325</td>\n",
       "      <td>42221</td>\n",
       "      <td>0.00</td>\n",
       "      <td>0.0</td>\n",
       "      <td>-2.079738e+11</td>\n",
       "      <td>0.00</td>\n",
       "      <td>0.00</td>\n",
       "      <td>-2</td>\n",
       "      <td>7301</td>\n",
       "    </tr>\n",
       "    <tr>\n",
       "      <th>1</th>\n",
       "      <td>300110761</td>\n",
       "      <td>1</td>\n",
       "      <td>0</td>\n",
       "      <td>1672147.68</td>\n",
       "      <td>0.0</td>\n",
       "      <td>0.000000e+00</td>\n",
       "      <td>1672147.68</td>\n",
       "      <td>1672147.68</td>\n",
       "      <td>6201</td>\n",
       "      <td>6201</td>\n",
       "    </tr>\n",
       "    <tr>\n",
       "      <th>2</th>\n",
       "      <td>200418947</td>\n",
       "      <td>1</td>\n",
       "      <td>0</td>\n",
       "      <td>64482.84</td>\n",
       "      <td>0.0</td>\n",
       "      <td>0.000000e+00</td>\n",
       "      <td>64482.84</td>\n",
       "      <td>64482.84</td>\n",
       "      <td>6221</td>\n",
       "      <td>6221</td>\n",
       "    </tr>\n",
       "    <tr>\n",
       "      <th>3</th>\n",
       "      <td>200248408</td>\n",
       "      <td>1</td>\n",
       "      <td>0</td>\n",
       "      <td>3987613.44</td>\n",
       "      <td>0.0</td>\n",
       "      <td>0.000000e+00</td>\n",
       "      <td>3987613.44</td>\n",
       "      <td>3987613.44</td>\n",
       "      <td>7812</td>\n",
       "      <td>7812</td>\n",
       "    </tr>\n",
       "    <tr>\n",
       "      <th>4</th>\n",
       "      <td>200310946</td>\n",
       "      <td>2</td>\n",
       "      <td>0</td>\n",
       "      <td>1638143.04</td>\n",
       "      <td>0.0</td>\n",
       "      <td>0.000000e+00</td>\n",
       "      <td>1537237.92</td>\n",
       "      <td>100905.12</td>\n",
       "      <td>4712</td>\n",
       "      <td>6829</td>\n",
       "    </tr>\n",
       "  </tbody>\n",
       "</table>\n",
       "</div>"
      ],
      "text/plain": [
       "     CUST_ID  INACTV_LEASE_CNT  ACTV_LEASE_CNT  INACTV_LEASE_LIM_TOT  \\\n",
       "0       None              2325           42221                  0.00   \n",
       "1  300110761                 1               0            1672147.68   \n",
       "2  200418947                 1               0              64482.84   \n",
       "3  200248408                 1               0            3987613.44   \n",
       "4  200310946                 2               0            1638143.04   \n",
       "\n",
       "   ACTV_LEASE__LIM_TOT       TOT_BAL  MAX_LEASE_LIM  MIN_LEASE__LIM  \\\n",
       "0                  0.0 -2.079738e+11           0.00            0.00   \n",
       "1                  0.0  0.000000e+00     1672147.68      1672147.68   \n",
       "2                  0.0  0.000000e+00       64482.84        64482.84   \n",
       "3                  0.0  0.000000e+00     3987613.44      3987613.44   \n",
       "4                  0.0  0.000000e+00     1537237.92       100905.12   \n",
       "\n",
       "   LAST_LEASE_AGE_DAYS  FIRST_LEASE_AGE_DAYS  \n",
       "0                   -2                  7301  \n",
       "1                 6201                  6201  \n",
       "2                 6221                  6221  \n",
       "3                 7812                  7812  \n",
       "4                 4712                  6829  "
      ]
     },
     "execution_count": 26,
     "metadata": {},
     "output_type": "execute_result"
    }
   ],
   "source": [
    "lease['CUST_ID']=lease['CUST_ID'].astype(str)\n",
    "lease.head(5)"
   ]
  },
  {
   "cell_type": "markdown",
   "metadata": {},
   "source": [
    "# Transaction credit data extraction "
   ]
  },
  {
   "cell_type": "code",
   "execution_count": null,
   "metadata": {},
   "outputs": [],
   "source": [
    "july='select a.cust_id, \\\n",
    "SUM(a.TRAN_AMT ) TOT_TXN_CREDIT, \\\n",
    "SUM(CASE WHEN a.TRAN_PARTICULAR LIKE \\'%SLIP%\\' THEN a.TRAN_AMT ELSE 0 END ) AS SLIP_TXN_CREDIT, \\\n",
    "SUM(CASE WHEN (h.remarks LIKE \\'%CPAY%\\' OR (UPPER(TRIM(a.TRAN_PARTICULAR)) LIKE \\'%SALAR%\\' AND h.remarks =\\'SLIPS\\')) THEN a.TRAN_AMT ELSE 0 END ) AS CPAY_TXN_CREDIT \\\n",
    "from tbaadm.htd a \\\n",
    "inner join tbaadm.hth h on a.tran_id=h.tran_id and a.tran_date=h.tran_date \\\n",
    "where extract(year from a.TRAN_DATE)=\\'2018\\' and extract(month from a.tran_date)=7 and a.cust_id is not null \\\n",
    "and a.del_flg != \\'Y\\' AND a.part_tran_type <> \\'D\\' AND a.pstd_flg = \\'Y\\' AND h.del_flg != \\'Y\\' \\\n",
    "group by a.cust_ID'\n",
    "july"
   ]
  },
  {
   "cell_type": "code",
   "execution_count": null,
   "metadata": {},
   "outputs": [],
   "source": [
    "def get_raw_txnCredit(connection,queryString):\n",
    "    logging.info(\"Credit transaction data extraction started\")\n",
    "    df = pd.read_sql(queryString,con=connection)\n",
    "    logging.info(\"Credit transaction data extraction completed\")\n",
    "    return df \n",
    "\n",
    "txnCredit=get_raw_txnCredit(connection_182,txnCreditQuery)\n",
    "print(txnCredit.head(5))"
   ]
  },
  {
   "cell_type": "code",
   "execution_count": null,
   "metadata": {},
   "outputs": [],
   "source": [
    "txnCredit=pd.read_csv(\"july.csv\")\n",
    "txnCredit['CUST_ID']=txnCredit['CUST_ID'].astype(str)\n",
    "txnCredit.head()"
   ]
  },
  {
   "cell_type": "markdown",
   "metadata": {},
   "source": [
    "# Transaction debit data extraction "
   ]
  },
  {
   "cell_type": "code",
   "execution_count": null,
   "metadata": {},
   "outputs": [],
   "source": [
    "july='select a.cust_id, \\\n",
    "SUM(a.TRAN_AMT) TOT_TXN_DEBIT \\\n",
    "from tbaadm.htd a \\\n",
    "inner join tbaadm.hth h on a.tran_id=h.tran_id and a.tran_date=h.tran_date \\\n",
    "where extract(year from a.TRAN_DATE)=\\'2018\\' and extract(month from a.tran_date)=7 and a.cust_id is not null \\\n",
    "and a.del_flg != \\'Y\\' AND a.part_tran_type=\\'D\\' AND a.pstd_flg = \\'Y\\' AND h.del_flg != \\'Y\\' \\\n",
    "group by a.cust_ID'\n",
    "july"
   ]
  },
  {
   "cell_type": "code",
   "execution_count": null,
   "metadata": {},
   "outputs": [],
   "source": [
    "def get_raw_txnDebit(connection,queryString):\n",
    "    logging.info(\"Debit transaction data extraction started\")\n",
    "    df = pd.read_sql(queryString,con=connection)\n",
    "    logging.info(\"Debit transaction data extraction completed\")\n",
    "    return df \n",
    "\n",
    "txnCredit=get_raw_txnDebit(connection_182,txnDebitQuery)\n",
    "print(txnCredit.head(5))"
   ]
  },
  {
   "cell_type": "code",
   "execution_count": null,
   "metadata": {},
   "outputs": [],
   "source": [
    "txnDebit=pd.read_csv(\"julyD.csv\")\n",
    "txnDebit['CUST_ID']=txnDebit['CUST_ID'].astype(str)\n",
    "txnDedit.head()"
   ]
  },
  {
   "cell_type": "markdown",
   "metadata": {},
   "source": [
    "# Credit card data extraction"
   ]
  },
  {
   "cell_type": "code",
   "execution_count": 34,
   "metadata": {},
   "outputs": [
    {
     "data": {
      "text/plain": [
       "'select distinct lower(p.ssnumber) as NIC_NUMBER,max(a.creditlimit) as CreditLimit from tbaadm.cardx c left join tbaadm.ctransactions ct on c.serno=ct.cardserno inner join tbaadm.people p on c.peopleserno=p.serno inner join tbaadm.caccounts a on c.caccserno=a.serno group by lower(p.ssnumber)'"
      ]
     },
     "execution_count": 34,
     "metadata": {},
     "output_type": "execute_result"
    }
   ],
   "source": [
    "ccQuery='select distinct lower(p.ssnumber) as NIC_NUMBER,max(a.creditlimit) as CreditLimit \\\n",
    "from tbaadm.cardx c \\\n",
    "left join tbaadm.ctransactions ct on c.serno=ct.cardserno \\\n",
    "inner join tbaadm.people p on c.peopleserno=p.serno \\\n",
    "inner join tbaadm.caccounts a on c.caccserno=a.serno \\\n",
    "group by lower(p.ssnumber)'\n",
    "ccQuery"
   ]
  },
  {
   "cell_type": "code",
   "execution_count": 35,
   "metadata": {},
   "outputs": [],
   "source": [
    "def get_raw_ccDetails(connection,queryString):\n",
    "    logging.info(\"credit card details extraction started\")\n",
    "    df = pd.read_sql(queryString,con=connection)\n",
    "    logging.info(\"credi card details extraction completed\")\n",
    "    return df \n",
    "\n",
    "cc=get_raw_ccDetails(connection_182,ccQuery)"
   ]
  },
  {
   "cell_type": "code",
   "execution_count": 59,
   "metadata": {},
   "outputs": [
    {
     "data": {
      "text/html": [
       "<div>\n",
       "<style scoped>\n",
       "    .dataframe tbody tr th:only-of-type {\n",
       "        vertical-align: middle;\n",
       "    }\n",
       "\n",
       "    .dataframe tbody tr th {\n",
       "        vertical-align: top;\n",
       "    }\n",
       "\n",
       "    .dataframe thead th {\n",
       "        text-align: right;\n",
       "    }\n",
       "</style>\n",
       "<table border=\"1\" class=\"dataframe\">\n",
       "  <thead>\n",
       "    <tr style=\"text-align: right;\">\n",
       "      <th></th>\n",
       "      <th>NIC_NUMBER</th>\n",
       "      <th>CREDITLIMIT</th>\n",
       "    </tr>\n",
       "  </thead>\n",
       "  <tbody>\n",
       "    <tr>\n",
       "      <th>0</th>\n",
       "      <td>***********</td>\n",
       "      <td>2000000.0</td>\n",
       "    </tr>\n",
       "    <tr>\n",
       "      <th>1</th>\n",
       "      <td>-</td>\n",
       "      <td>750000.0</td>\n",
       "    </tr>\n",
       "    <tr>\n",
       "      <th>2</th>\n",
       "      <td>----</td>\n",
       "      <td>100000.0</td>\n",
       "    </tr>\n",
       "  </tbody>\n",
       "</table>\n",
       "</div>"
      ],
      "text/plain": [
       "    NIC_NUMBER  CREDITLIMIT\n",
       "0  ***********    2000000.0\n",
       "1            -     750000.0\n",
       "2         ----     100000.0"
      ]
     },
     "execution_count": 59,
     "metadata": {},
     "output_type": "execute_result"
    }
   ],
   "source": [
    "cc.head(3)"
   ]
  },
  {
   "cell_type": "markdown",
   "metadata": {},
   "source": [
    "# Joint account Cust_ids "
   ]
  },
  {
   "cell_type": "code",
   "execution_count": 53,
   "metadata": {},
   "outputs": [
    {
     "data": {
      "text/plain": [
       "'select distinct cust_id from tbaadm.aas where acid in   (select acid from tbaadm.aas    group by acid having count(*)>1)'"
      ]
     },
     "execution_count": 53,
     "metadata": {},
     "output_type": "execute_result"
    }
   ],
   "source": [
    "jointAcctQuery='select distinct cust_id \\\n",
    "from tbaadm.aas \\\n",
    "where acid in \\\n",
    "  (select acid from tbaadm.aas \\\n",
    "   group by acid having count(*)>1)'\n",
    "jointAcctQuery"
   ]
  },
  {
   "cell_type": "code",
   "execution_count": 54,
   "metadata": {},
   "outputs": [],
   "source": [
    "def get_raw_jointAcct(connection,queryString):\n",
    "    logging.info(\"Joint account details extraction started\")\n",
    "    df = pd.read_sql(queryString,con=connection)\n",
    "    logging.info(\"Joint account details extraction completed\")\n",
    "    return df \n",
    "\n",
    "jointAcct=get_raw_jointAcct(connection_182,jointAcctQuery)"
   ]
  },
  {
   "cell_type": "code",
   "execution_count": 57,
   "metadata": {},
   "outputs": [
    {
     "data": {
      "text/html": [
       "<div>\n",
       "<style scoped>\n",
       "    .dataframe tbody tr th:only-of-type {\n",
       "        vertical-align: middle;\n",
       "    }\n",
       "\n",
       "    .dataframe tbody tr th {\n",
       "        vertical-align: top;\n",
       "    }\n",
       "\n",
       "    .dataframe thead th {\n",
       "        text-align: right;\n",
       "    }\n",
       "</style>\n",
       "<table border=\"1\" class=\"dataframe\">\n",
       "  <thead>\n",
       "    <tr style=\"text-align: right;\">\n",
       "      <th></th>\n",
       "      <th>CUST_ID</th>\n",
       "    </tr>\n",
       "  </thead>\n",
       "  <tbody>\n",
       "    <tr>\n",
       "      <th>0</th>\n",
       "      <td>2</td>\n",
       "    </tr>\n",
       "    <tr>\n",
       "      <th>1</th>\n",
       "      <td>84</td>\n",
       "    </tr>\n",
       "    <tr>\n",
       "      <th>2</th>\n",
       "      <td>XSET</td>\n",
       "    </tr>\n",
       "  </tbody>\n",
       "</table>\n",
       "</div>"
      ],
      "text/plain": [
       "     CUST_ID\n",
       "0          2\n",
       "1         84\n",
       "2       XSET"
      ]
     },
     "execution_count": 57,
     "metadata": {},
     "output_type": "execute_result"
    }
   ],
   "source": [
    "jointAcct.to_csv(\"jointAcct.csv\")\n",
    "jointAcct.head(3)"
   ]
  },
  {
   "cell_type": "markdown",
   "metadata": {},
   "source": [
    "# Data Frame Preparation "
   ]
  },
  {
   "cell_type": "code",
   "execution_count": 445,
   "metadata": {},
   "outputs": [],
   "source": [
    "df = vishwaDF.merge(right=vishwaUserCustTrack.reset_index(drop=True), how='inner', on='USER_ID')\n",
    "df1 = df.merge(right=customer.reset_index(drop=True), how='left', on='CUST_ID')\n",
    "df2=df1.merge(right=pawnCustomer.reset_index(drop=True), how='left', left_on='UNIQUEIDNUMBER',right_on='P_NIC_NUMBER')\n",
    "df3=df2.merge(right=txnATMSum.reset_index(drop=True), how='left', left_on='CUST_ID',right_on='CUST_ID')\n",
    "df4=df3.merge(right=txnPOSSum.reset_index(drop=True), how='left', left_on='CUST_ID',right_on='CUST_ID')\n",
    "df5=df4.merge(right=fd.reset_index(drop=True), how='left', left_on='CUST_ID',right_on='CUST_ID')\n",
    "df6=df5.merge(right=oda.reset_index(drop=True), how='left', left_on='CUST_ID',right_on='CUST_ID')\n",
    "df7=df6.merge(right=loan.reset_index(drop=True), how='left', left_on='CUST_ID',right_on='CUST_ID')\n",
    "df9=df8.merge(right=lease.reset_index(drop=True), how='left', left_on='CUST_ID',right_on='CUST_ID')\n",
    "df10=df9.merge(right=cc.reset_index(drop=True), how='left', left_on='UNIQUEIDNUMBER',right_on='NIC_NUMBER')\n",
    "\n",
    "#df9=df8.merge(right=txnDedit.reset_index(drop=True), how='left', left_on='CUST_ID',right_on='CUST_ID')\n",
    "\n",
    "\n",
    "#lp=df6.merge(right=loan.reset_index(drop=True), how='left', left_on='CUST_ID',right_on='CUST_ID')"
   ]
  },
  {
   "cell_type": "code",
   "execution_count": null,
   "metadata": {},
   "outputs": [],
   "source": [
    "df12=df11.merge(right=txa.reset_index(drop=True), how='left', left_on='CUST_ID',right_on='CUST_ID')"
   ]
  },
  {
   "cell_type": "code",
   "execution_count": 61,
   "metadata": {},
   "outputs": [
    {
     "name": "stderr",
     "output_type": "stream",
     "text": [
      "/root/anaconda3/lib/python3.6/site-packages/IPython/core/interactiveshell.py:2785: DtypeWarning: Columns (2,31) have mixed types. Specify dtype option on import or set low_memory=False.\n",
      "  interactivity=interactivity, compiler=compiler, result=result)\n",
      "/root/anaconda3/lib/python3.6/site-packages/IPython/core/interactiveshell.py:2785: DtypeWarning: Columns (0) have mixed types. Specify dtype option on import or set low_memory=False.\n",
      "  interactivity=interactivity, compiler=compiler, result=result)\n"
     ]
    },
    {
     "ename": "ValueError",
     "evalue": "You are trying to merge on int64 and object columns. If you wish to proceed you should use pd.concat",
     "output_type": "error",
     "traceback": [
      "\u001b[0;31m---------------------------------------------------------------------------\u001b[0m",
      "\u001b[0;31mValueError\u001b[0m                                Traceback (most recent call last)",
      "\u001b[0;32m<ipython-input-61-bc444527fbf0>\u001b[0m in \u001b[0;36m<module>\u001b[0;34m()\u001b[0m\n\u001b[1;32m     18\u001b[0m \u001b[0mjulyDebit\u001b[0m\u001b[0;34m=\u001b[0m\u001b[0mpd\u001b[0m\u001b[0;34m.\u001b[0m\u001b[0mread_csv\u001b[0m\u001b[0;34m(\u001b[0m\u001b[0;34m\"JULYD.csv\"\u001b[0m\u001b[0;34m)\u001b[0m\u001b[0;34m\u001b[0m\u001b[0m\n\u001b[1;32m     19\u001b[0m \u001b[0mjulyDebit\u001b[0m\u001b[0;34m[\u001b[0m\u001b[0;34m'CUST_ID'\u001b[0m\u001b[0;34m]\u001b[0m\u001b[0;34m=\u001b[0m\u001b[0mjulyDebit\u001b[0m\u001b[0;34m[\u001b[0m\u001b[0;34m'CUST_ID'\u001b[0m\u001b[0;34m]\u001b[0m\u001b[0;34m.\u001b[0m\u001b[0mastype\u001b[0m\u001b[0;34m(\u001b[0m\u001b[0mstr\u001b[0m\u001b[0;34m)\u001b[0m\u001b[0;34m\u001b[0m\u001b[0m\n\u001b[0;32m---> 20\u001b[0;31m \u001b[0mdf11\u001b[0m\u001b[0;34m=\u001b[0m\u001b[0mdf10\u001b[0m\u001b[0;34m.\u001b[0m\u001b[0mmerge\u001b[0m\u001b[0;34m(\u001b[0m\u001b[0mright\u001b[0m\u001b[0;34m=\u001b[0m\u001b[0mjulyDebit\u001b[0m\u001b[0;34m.\u001b[0m\u001b[0mreset_index\u001b[0m\u001b[0;34m(\u001b[0m\u001b[0mdrop\u001b[0m\u001b[0;34m=\u001b[0m\u001b[0;32mTrue\u001b[0m\u001b[0;34m)\u001b[0m\u001b[0;34m,\u001b[0m \u001b[0mhow\u001b[0m\u001b[0;34m=\u001b[0m\u001b[0;34m'left'\u001b[0m\u001b[0;34m,\u001b[0m \u001b[0mleft_on\u001b[0m\u001b[0;34m=\u001b[0m\u001b[0;34m'CUST_ID'\u001b[0m\u001b[0;34m,\u001b[0m\u001b[0mright_on\u001b[0m\u001b[0;34m=\u001b[0m\u001b[0;34m'CUST_ID'\u001b[0m\u001b[0;34m)\u001b[0m\u001b[0;34m\u001b[0m\u001b[0m\n\u001b[0m",
      "\u001b[0;32m~/anaconda3/lib/python3.6/site-packages/pandas/core/frame.py\u001b[0m in \u001b[0;36mmerge\u001b[0;34m(self, right, how, on, left_on, right_on, left_index, right_index, sort, suffixes, copy, indicator, validate)\u001b[0m\n\u001b[1;32m   6377\u001b[0m                      \u001b[0mright_on\u001b[0m\u001b[0;34m=\u001b[0m\u001b[0mright_on\u001b[0m\u001b[0;34m,\u001b[0m \u001b[0mleft_index\u001b[0m\u001b[0;34m=\u001b[0m\u001b[0mleft_index\u001b[0m\u001b[0;34m,\u001b[0m\u001b[0;34m\u001b[0m\u001b[0m\n\u001b[1;32m   6378\u001b[0m                      \u001b[0mright_index\u001b[0m\u001b[0;34m=\u001b[0m\u001b[0mright_index\u001b[0m\u001b[0;34m,\u001b[0m \u001b[0msort\u001b[0m\u001b[0;34m=\u001b[0m\u001b[0msort\u001b[0m\u001b[0;34m,\u001b[0m \u001b[0msuffixes\u001b[0m\u001b[0;34m=\u001b[0m\u001b[0msuffixes\u001b[0m\u001b[0;34m,\u001b[0m\u001b[0;34m\u001b[0m\u001b[0m\n\u001b[0;32m-> 6379\u001b[0;31m                      copy=copy, indicator=indicator, validate=validate)\n\u001b[0m\u001b[1;32m   6380\u001b[0m \u001b[0;34m\u001b[0m\u001b[0m\n\u001b[1;32m   6381\u001b[0m     \u001b[0;32mdef\u001b[0m \u001b[0mround\u001b[0m\u001b[0;34m(\u001b[0m\u001b[0mself\u001b[0m\u001b[0;34m,\u001b[0m \u001b[0mdecimals\u001b[0m\u001b[0;34m=\u001b[0m\u001b[0;36m0\u001b[0m\u001b[0;34m,\u001b[0m \u001b[0;34m*\u001b[0m\u001b[0margs\u001b[0m\u001b[0;34m,\u001b[0m \u001b[0;34m**\u001b[0m\u001b[0mkwargs\u001b[0m\u001b[0;34m)\u001b[0m\u001b[0;34m:\u001b[0m\u001b[0;34m\u001b[0m\u001b[0m\n",
      "\u001b[0;32m~/anaconda3/lib/python3.6/site-packages/pandas/core/reshape/merge.py\u001b[0m in \u001b[0;36mmerge\u001b[0;34m(left, right, how, on, left_on, right_on, left_index, right_index, sort, suffixes, copy, indicator, validate)\u001b[0m\n\u001b[1;32m     58\u001b[0m                          \u001b[0mright_index\u001b[0m\u001b[0;34m=\u001b[0m\u001b[0mright_index\u001b[0m\u001b[0;34m,\u001b[0m \u001b[0msort\u001b[0m\u001b[0;34m=\u001b[0m\u001b[0msort\u001b[0m\u001b[0;34m,\u001b[0m \u001b[0msuffixes\u001b[0m\u001b[0;34m=\u001b[0m\u001b[0msuffixes\u001b[0m\u001b[0;34m,\u001b[0m\u001b[0;34m\u001b[0m\u001b[0m\n\u001b[1;32m     59\u001b[0m                          \u001b[0mcopy\u001b[0m\u001b[0;34m=\u001b[0m\u001b[0mcopy\u001b[0m\u001b[0;34m,\u001b[0m \u001b[0mindicator\u001b[0m\u001b[0;34m=\u001b[0m\u001b[0mindicator\u001b[0m\u001b[0;34m,\u001b[0m\u001b[0;34m\u001b[0m\u001b[0m\n\u001b[0;32m---> 60\u001b[0;31m                          validate=validate)\n\u001b[0m\u001b[1;32m     61\u001b[0m     \u001b[0;32mreturn\u001b[0m \u001b[0mop\u001b[0m\u001b[0;34m.\u001b[0m\u001b[0mget_result\u001b[0m\u001b[0;34m(\u001b[0m\u001b[0;34m)\u001b[0m\u001b[0;34m\u001b[0m\u001b[0m\n\u001b[1;32m     62\u001b[0m \u001b[0;34m\u001b[0m\u001b[0m\n",
      "\u001b[0;32m~/anaconda3/lib/python3.6/site-packages/pandas/core/reshape/merge.py\u001b[0m in \u001b[0;36m__init__\u001b[0;34m(self, left, right, how, on, left_on, right_on, axis, left_index, right_index, sort, suffixes, copy, indicator, validate)\u001b[0m\n\u001b[1;32m    552\u001b[0m         \u001b[0;31m# validate the merge keys dtypes. We may need to coerce\u001b[0m\u001b[0;34m\u001b[0m\u001b[0;34m\u001b[0m\u001b[0m\n\u001b[1;32m    553\u001b[0m         \u001b[0;31m# to avoid incompat dtypes\u001b[0m\u001b[0;34m\u001b[0m\u001b[0;34m\u001b[0m\u001b[0m\n\u001b[0;32m--> 554\u001b[0;31m         \u001b[0mself\u001b[0m\u001b[0;34m.\u001b[0m\u001b[0m_maybe_coerce_merge_keys\u001b[0m\u001b[0;34m(\u001b[0m\u001b[0;34m)\u001b[0m\u001b[0;34m\u001b[0m\u001b[0m\n\u001b[0m\u001b[1;32m    555\u001b[0m \u001b[0;34m\u001b[0m\u001b[0m\n\u001b[1;32m    556\u001b[0m         \u001b[0;31m# If argument passed to validate,\u001b[0m\u001b[0;34m\u001b[0m\u001b[0;34m\u001b[0m\u001b[0m\n",
      "\u001b[0;32m~/anaconda3/lib/python3.6/site-packages/pandas/core/reshape/merge.py\u001b[0m in \u001b[0;36m_maybe_coerce_merge_keys\u001b[0;34m(self)\u001b[0m\n\u001b[1;32m    976\u001b[0m             \u001b[0;31m# incompatible dtypes GH 9780, GH 15800\u001b[0m\u001b[0;34m\u001b[0m\u001b[0;34m\u001b[0m\u001b[0m\n\u001b[1;32m    977\u001b[0m             \u001b[0;32melif\u001b[0m \u001b[0mis_numeric_dtype\u001b[0m\u001b[0;34m(\u001b[0m\u001b[0mlk\u001b[0m\u001b[0;34m)\u001b[0m \u001b[0;32mand\u001b[0m \u001b[0;32mnot\u001b[0m \u001b[0mis_numeric_dtype\u001b[0m\u001b[0;34m(\u001b[0m\u001b[0mrk\u001b[0m\u001b[0;34m)\u001b[0m\u001b[0;34m:\u001b[0m\u001b[0;34m\u001b[0m\u001b[0m\n\u001b[0;32m--> 978\u001b[0;31m                 \u001b[0;32mraise\u001b[0m \u001b[0mValueError\u001b[0m\u001b[0;34m(\u001b[0m\u001b[0mmsg\u001b[0m\u001b[0;34m)\u001b[0m\u001b[0;34m\u001b[0m\u001b[0m\n\u001b[0m\u001b[1;32m    979\u001b[0m             \u001b[0;32melif\u001b[0m \u001b[0;32mnot\u001b[0m \u001b[0mis_numeric_dtype\u001b[0m\u001b[0;34m(\u001b[0m\u001b[0mlk\u001b[0m\u001b[0;34m)\u001b[0m \u001b[0;32mand\u001b[0m \u001b[0mis_numeric_dtype\u001b[0m\u001b[0;34m(\u001b[0m\u001b[0mrk\u001b[0m\u001b[0;34m)\u001b[0m\u001b[0;34m:\u001b[0m\u001b[0;34m\u001b[0m\u001b[0m\n\u001b[1;32m    980\u001b[0m                 \u001b[0;32mraise\u001b[0m \u001b[0mValueError\u001b[0m\u001b[0;34m(\u001b[0m\u001b[0mmsg\u001b[0m\u001b[0;34m)\u001b[0m\u001b[0;34m\u001b[0m\u001b[0m\n",
      "\u001b[0;31mValueError\u001b[0m: You are trying to merge on int64 and object columns. If you wish to proceed you should use pd.concat"
     ]
    }
   ],
   "source": [
    "#Tempory \n",
    "\n",
    "df7=pd.read_csv(\"lp.csv\")\n",
    "df7['CUST_ID']=df7['CUST_ID'].astype(str)\n",
    "julyCredit=pd.read_csv(\"JULY_TRXNS.csv\")\n",
    "julyCredit['CUST_ID']=julyCredit['CUST_ID'].astype(str)\n",
    "df8=df7.merge(right=julyCredit.reset_index(drop=True), how='left', left_on='CUST_ID',right_on='CUST_ID')\n",
    "#df9=df8.merge(right=txnDedit.reset_index(drop=True), how='left', left_on='CUST_ID',right_on='CUST_ID')\n",
    "#df8.to_csv(\"lp.csv\",index=False)\n",
    "\n",
    "#df9=pd.read_csv(\"lp.csv\")\n",
    "#df10=df9.merge(right=cc.reset_index(drop=True), how='left', left_on='UNIQUEIDNUMBER',right_on='NIC_NUMBER')\n",
    "#df10.to_csv(\"lp.csv\")\n",
    "\n",
    "#df11=df9.merge(right=cc.reset_index(drop=True), how='left', left_on='UNIQUEIDNUMBER',right_on='NIC_NUMBER')\n",
    "#df10.to_csv(\"lp.csv\")\n",
    "\n",
    "\n",
    "julyDebit=pd.read_csv(\"JULYD.csv\")\n",
    "lp=pd.read_csv(\"lp.csv\")\n",
    "julyDebit['CUST_ID']=julyDebit['CUST_ID'].astype(str)\n",
    "lp['CUST_ID']=lp['CUST_ID'].astype(str)\n",
    "df11=lp.merge(right=julyDebit.reset_index(drop=True), how='left', left_on='CUST_ID',right_on='CUST_ID')\n"
   ]
  },
  {
   "cell_type": "code",
   "execution_count": 62,
   "metadata": {},
   "outputs": [
    {
     "name": "stderr",
     "output_type": "stream",
     "text": [
      "/root/anaconda3/lib/python3.6/site-packages/IPython/core/interactiveshell.py:2785: DtypeWarning: Columns (0) have mixed types. Specify dtype option on import or set low_memory=False.\n",
      "  interactivity=interactivity, compiler=compiler, result=result)\n",
      "/root/anaconda3/lib/python3.6/site-packages/IPython/core/interactiveshell.py:2785: DtypeWarning: Columns (2,31) have mixed types. Specify dtype option on import or set low_memory=False.\n",
      "  interactivity=interactivity, compiler=compiler, result=result)\n"
     ]
    }
   ],
   "source": [
    "julyDebit=pd.read_csv(\"JULYD.csv\")\n",
    "lp=pd.read_csv(\"lp.csv\")\n",
    "julyDebit['CUST_ID']=julyDebit['CUST_ID'].astype(str)\n",
    "lp['CUST_ID']=lp['CUST_ID'].astype(str)\n",
    "df11=lp.merge(right=julyDebit.reset_index(drop=True), how='left', left_on='CUST_ID',right_on='CUST_ID')"
   ]
  },
  {
   "cell_type": "markdown",
   "metadata": {},
   "source": [
    "# Feedback DF Preparation "
   ]
  },
  {
   "cell_type": "code",
   "execution_count": 64,
   "metadata": {},
   "outputs": [],
   "source": [
    "fbQuery='select distinct cust_id \\\n",
    "from tbaadm.gam \\\n",
    "where schm_code=\\'VIPAF\\''"
   ]
  },
  {
   "cell_type": "code",
   "execution_count": 89,
   "metadata": {},
   "outputs": [
    {
     "data": {
      "text/plain": [
       "(106, 2)"
      ]
     },
     "execution_count": 89,
     "metadata": {},
     "output_type": "execute_result"
    }
   ],
   "source": [
    "def get_raw_feedBack(connection,queryString):\n",
    "    logging.info(\"FGeedback data extraction started\")\n",
    "    df1 = pd.read_sql(queryString,con=connection)\n",
    "    df2 = pd.read_csv(\"feedback.csv\")\n",
    "    df1['Comment']=1\n",
    "    \n",
    "    df3=df2[(~df2.CUST_ID.isin(df1.CUST_ID))]\n",
    "    fb=df1.append(df3, ignore_index=True,sort=False)\n",
    "    fb.set_index('CUST_ID')\n",
    "    logging.info(\"Feedback data extraction completed\")\n",
    "    return fb\n",
    "\n",
    "fb=get_raw_feedBack(connection_182,fbQuery)\n",
    "fb.shape"
   ]
  },
  {
   "cell_type": "markdown",
   "metadata": {},
   "source": [
    "# Transaction"
   ]
  },
  {
   "cell_type": "code",
   "execution_count": 91,
   "metadata": {},
   "outputs": [],
   "source": [
    "tx=pd.read_csv(\"Tx.csv\")"
   ]
  },
  {
   "cell_type": "code",
   "execution_count": 94,
   "metadata": {},
   "outputs": [],
   "source": [
    "tx['cpayFlag']=0\n",
    "tx.loc[(tx.CPAY>75000) | (tx.SLIP >75000),'cpayFlag']=1"
   ]
  },
  {
   "cell_type": "code",
   "execution_count": 98,
   "metadata": {},
   "outputs": [],
   "source": [
    "txa = tx.groupby(['CUST_ID']).agg({'C':'mean','D':'mean','cpayFlag':sum})"
   ]
  },
  {
   "cell_type": "code",
   "execution_count": 100,
   "metadata": {},
   "outputs": [
    {
     "data": {
      "text/plain": [
       "(299223, 80)"
      ]
     },
     "execution_count": 100,
     "metadata": {},
     "output_type": "execute_result"
    }
   ],
   "source": [
    "df11=df10.merge(right=txnDebit.reset_index(drop=True), how='left', left_on='CUST_ID',right_on='CUST_ID')"
   ]
  },
  {
   "cell_type": "code",
   "execution_count": 104,
   "metadata": {},
   "outputs": [],
   "source": [
    "txa.to_csv(\"transaction.csv\",index=True)"
   ]
  },
  {
   "cell_type": "markdown",
   "metadata": {},
   "source": [
    "# Writing Dataframes into CSV"
   ]
  },
  {
   "cell_type": "code",
   "execution_count": 448,
   "metadata": {},
   "outputs": [],
   "source": [
    "#Writing data to CSV files \n",
    "def writeCSV():\n",
    "    logging.info(\"Writing to CSV started\")\n",
    "    vishwaCustomer.to_csv(\"vishwaCustomer.csv\", index=False)\n",
    "    vishwaTransfer.to_csv(\"vishwaTransfer.csv\", index=False)\n",
    "    vishwaPayment.to_csv(\"vishwaPayment.csv\", index=False)\n",
    "    vishwaSchdPayment.to_csv(\"vishwaSchdPayment.csv\", index=False)\n",
    "    vishwaUserCustTrack.to_csv(\"vishwaUserCustTrack.csv\",index=False)\n",
    "    vishwaUserCustTrack1M.to_csv(\"vishwaUserCustTrack1M.csv\",index=False)\n",
    "    vishwaCustUserTrack1M.to_csv(\"vishwaCustUserTrack1M.csv\",index=False)\n",
    "    vishwaDF.to_csv(\"vishwaDF.csv\",index=False)\n",
    "    customer.to_csv(\"customer.csv\",index=False)\n",
    "    pawnCustomer.to_csv(\"pawnCustomer.csv\",index=False)\n",
    "    txnATM.to_csv(\"txnATM.csv\",index=False)\n",
    "    txnPOS.to_csv(\"txnPOS.csv\",index=False)\n",
    "    txnATMSum.to_csv(\"txnATMSum.csv\",index=False)\n",
    "    txnPOSSum.to_csv(\"txnPOSSum.csv\",index=False)\n",
    "    fd.to_csv(\"fd.csv\",index=False)\n",
    "    oda.to_csv(\"oda.csv\",index=False)\n",
    "    loan.to_csv(\"loan.csv\",index=False)\n",
    "    cc.to_csv(\"cc.csv\",index=False)\n",
    "    cc.to_csv(\"lease.csv\",index=False)\n",
    "    lp.to_csv(\"lp.csv\",index=False)\n",
    "    fb.to_csv(\"fb.csv\",index=False)\n",
    "    userCustTrack.to_csv(\"userCustTrack.csv\",index=False)\n",
    "    logging.info(\"Writing to CSV Completed\")\n",
    "writeCSV()"
   ]
  },
  {
   "cell_type": "markdown",
   "metadata": {},
   "source": [
    "# Customer demographical data preparation "
   ]
  },
  {
   "cell_type": "code",
   "execution_count": 34,
   "metadata": {},
   "outputs": [],
   "source": [
    "crmQuery='select \\\n",
    "CORE_CUST_ID as CUST_ID,UNIQUEIDNUMBER AS CRM_NIC1,UNIQUEID CRM_NIC2,CUST_lAST_NAME AS CRM_CUST_NAME,GENDER AS CRM_GENDER, \\\n",
    "(EXTRACT(YEAR FROM SYSDATE)-BIRTH_YEAR) CRM_AGE,OCCUPATION CRM_OCCUPATION, \\\n",
    "PHONE CRM_PHONE1,PHONE_HOME CRM_PHONE2,PHONE_HOME2 CRM_PHONE3,PHONE_CELL CRM_PHONE4,PREFERREDPHONE CRM_PHONE5 , EMAIL CRM_EMAIL1, \\\n",
    "EMAIL_PALM CRM_EMAIL2,EMAIL_HOME CRM_EMAIL3,PRIMARY_SOL_ID CRM_BRANCH_ID,CONCAT(CONCAT(ADDRESS_LINE1,ADDRESS_LINE2), \\\n",
    "ADDRESS_LINE3) AS CRM_ADDRESS \\\n",
    ",STATE AS CRM_STATE \\\n",
    "from CRMUSER.ACCOUNTS'\n"
   ]
  },
  {
   "cell_type": "code",
   "execution_count": 35,
   "metadata": {},
   "outputs": [],
   "source": [
    "def get_raw_crmUser(connection,queryString):\n",
    "    logging.info(\"crmuser accounts details extraction started\")\n",
    "    df = pd.read_sql(queryString,con=connection)\n",
    "    logging.info(\"crmuser accounts details extraction completed\")\n",
    "    return df \n",
    "\n",
    "crmUser=get_raw_crmUser(connection_182,crmQuery)"
   ]
  },
  {
   "cell_type": "code",
   "execution_count": 36,
   "metadata": {},
   "outputs": [],
   "source": [
    "vQuery='select USER_ID as USER_ID,NIC_NUMBER AS V_NIC_NUMBER,PP_NUMBER AS V_PP_NUMBER,EMAIL_ADDR AS V_EMAIL, \\\n",
    "CONCAT(CUST_OTHER_NAMES , CUST_SURNAME) AS V_CUST_NAME,CONCAT(COMM_ADDR1,COMM_ADDR2) AS V_ADDRESS, \\\n",
    "COMM_TEL_NO AS V_PHONE1,COMM_MOBILE_NO AS V_PHONE2 \\\n",
    "from tbaadm.svr_user_master_table'\n"
   ]
  },
  {
   "cell_type": "code",
   "execution_count": 37,
   "metadata": {},
   "outputs": [],
   "source": [
    "def get_raw_vUser(connection,queryString):\n",
    "    logging.info(\"vishwa user accounts details extraction started\")\n",
    "    df = pd.read_sql(queryString,con=connection)\n",
    "    logging.info(\"vishwa user accounts details extraction completed\")\n",
    "    return df \n",
    "\n",
    "vUser=get_raw_vUser(connection_182,vQuery)"
   ]
  },
  {
   "cell_type": "code",
   "execution_count": 38,
   "metadata": {},
   "outputs": [],
   "source": [
    "userCustTrack=pd.read_csv(\"userCustTrack.csv\",dtype={'USER_ID':'object','CUST_ID':'object'})\n",
    "df0=userCustTrack[(userCustTrack.U_CNT==1) & (userCustTrack.C_CNT==1)]\n",
    "df = vUser.merge(right=df0.reset_index(drop=True), how='inner',on='USER_ID')\n",
    "df1= df.merge(right=crmUser.reset_index(drop=True), how='left', on='CUST_ID')"
   ]
  },
  {
   "cell_type": "code",
   "execution_count": 39,
   "metadata": {},
   "outputs": [],
   "source": [
    "df1.to_csv(\"custDemo.csv\",index=False)"
   ]
  },
  {
   "cell_type": "code",
   "execution_count": null,
   "metadata": {},
   "outputs": [],
   "source": [
    "#Transaction "
   ]
  },
  {
   "cell_type": "code",
   "execution_count": 60,
   "metadata": {},
   "outputs": [
    {
     "data": {
      "text/plain": [
       "\"select a.cust_id,a.tran_amt,a.tran_particular,g.foracid,h.remarks,a.part_tran_type from tbaadm.htd a inner join tbaadm.hth h on a.tran_id=h.tran_id and a.tran_date=h.tran_date inner join tbaadm.gam g on a.acid=g.acid where a.tran_date>=add_months(trunc(sysdate,'mm'),-1) and a.tran_date<add_months(trunc(sysdate,'mm'),-1)+1 and a.cust_id is not null and a.del_flg != 'Y' AND a.pstd_flg = 'Y' AND h.del_flg != 'Y' \""
      ]
     },
     "execution_count": 60,
     "metadata": {},
     "output_type": "execute_result"
    }
   ],
   "source": [
    "que='select a.cust_id,a.tran_amt,a.tran_particular,g.foracid,h.remarks,a.part_tran_type \\\n",
    "from tbaadm.htd a \\\n",
    "inner join tbaadm.hth h on a.tran_id=h.tran_id and a.tran_date=h.tran_date \\\n",
    "inner join tbaadm.gam g on a.acid=g.acid \\\n",
    "where a.tran_date>=add_months(trunc(sysdate,\\'mm\\'),-1) \\\n",
    "and a.tran_date<add_months(trunc(sysdate,\\'mm\\'),-1)+1 \\\n",
    "and a.cust_id is not null and a.del_flg != \\'Y\\' AND a.pstd_flg = \\'Y\\' AND h.del_flg != \\'Y\\' \\\n",
    "'\n",
    "que"
   ]
  },
  {
   "cell_type": "code",
   "execution_count": 61,
   "metadata": {},
   "outputs": [
    {
     "name": "stdout",
     "output_type": "stream",
     "text": [
      "CPU times: user 1.67 s, sys: 286 ms, total: 1.96 s\n",
      "Wall time: 12.3 s\n"
     ]
    }
   ],
   "source": [
    "%%time\n",
    "df = pd.read_sql(que,con=connection_182)"
   ]
  },
  {
   "cell_type": "code",
   "execution_count": 33,
   "metadata": {},
   "outputs": [
    {
     "data": {
      "text/plain": [
       "(496474, 7)"
      ]
     },
     "execution_count": 33,
     "metadata": {},
     "output_type": "execute_result"
    }
   ],
   "source": [
    "df[(df.FORACID.str[:1] == '0')|(df.FORACID.str[:1] == '1')].shape"
   ]
  },
  {
   "cell_type": "code",
   "execution_count": 68,
   "metadata": {},
   "outputs": [
    {
     "data": {
      "text/plain": [
       "(302258,)"
      ]
     },
     "execution_count": 68,
     "metadata": {},
     "output_type": "execute_result"
    }
   ],
   "source": [
    "#dt=pd.read_csv(\"data.csv\")\n",
    "#vishwaCust=dt['CUST_ID']"
   ]
  },
  {
   "cell_type": "code",
   "execution_count": 71,
   "metadata": {},
   "outputs": [
    {
     "name": "stdout",
     "output_type": "stream",
     "text": [
      "31\n"
     ]
    }
   ],
   "source": [
    "import calendar\n",
    "import datetime\n",
    "now = datetime.datetime.now()\n",
    "print(calendar.monthrange(now.year, now.month)[1])\n"
   ]
  },
  {
   "cell_type": "code",
   "execution_count": 108,
   "metadata": {},
   "outputs": [
    {
     "data": {
      "text/plain": [
       "datetime.datetime(2018, 8, 24, 15, 7, 27, 13626)"
      ]
     },
     "execution_count": 108,
     "metadata": {},
     "output_type": "execute_result"
    }
   ],
   "source": []
  },
  {
   "cell_type": "code",
   "execution_count": 83,
   "metadata": {},
   "outputs": [
    {
     "data": {
      "text/html": [
       "<div>\n",
       "<style scoped>\n",
       "    .dataframe tbody tr th:only-of-type {\n",
       "        vertical-align: middle;\n",
       "    }\n",
       "\n",
       "    .dataframe tbody tr th {\n",
       "        vertical-align: top;\n",
       "    }\n",
       "\n",
       "    .dataframe thead th {\n",
       "        text-align: right;\n",
       "    }\n",
       "</style>\n",
       "<table border=\"1\" class=\"dataframe\">\n",
       "  <thead>\n",
       "    <tr style=\"text-align: right;\">\n",
       "      <th></th>\n",
       "      <th>CUST_ID</th>\n",
       "      <th>TRAN_AMT</th>\n",
       "      <th>TRAN_PARTICULAR</th>\n",
       "      <th>FORACID</th>\n",
       "      <th>REMARKS</th>\n",
       "      <th>PART_TRAN_TYPE</th>\n",
       "    </tr>\n",
       "  </thead>\n",
       "  <tbody>\n",
       "    <tr>\n",
       "      <th>0</th>\n",
       "      <td>200312922</td>\n",
       "      <td>295.0</td>\n",
       "      <td>LN-INS73000144</td>\n",
       "      <td>100253287002</td>\n",
       "      <td>Loan Auto Recovery</td>\n",
       "      <td>D</td>\n",
       "    </tr>\n",
       "  </tbody>\n",
       "</table>\n",
       "</div>"
      ],
      "text/plain": [
       "     CUST_ID  TRAN_AMT TRAN_PARTICULAR       FORACID             REMARKS  \\\n",
       "0  200312922     295.0  LN-INS73000144  100253287002  Loan Auto Recovery   \n",
       "\n",
       "  PART_TRAN_TYPE  \n",
       "0              D  "
      ]
     },
     "execution_count": 83,
     "metadata": {},
     "output_type": "execute_result"
    }
   ],
   "source": [
    "df.head(1)"
   ]
  },
  {
   "cell_type": "code",
   "execution_count": 87,
   "metadata": {},
   "outputs": [],
   "source": [
    "df=df.fillna({'TRAN_PARTICULAR':'NA','REMARKS':'NA'})\n",
    "df['tx_cat'] = df.apply(setTxCode,axis=1)"
   ]
  },
  {
   "cell_type": "code",
   "execution_count": 90,
   "metadata": {},
   "outputs": [],
   "source": [
    "df = df[(df.FORACID.str[:1] == '0')|(df.FORACID.str[:1] == '1')]\n",
    "df = df[['CUST_ID','TRAN_AMT','PART_TRAN_TYPE','tx_cat']]"
   ]
  },
  {
   "cell_type": "code",
   "execution_count": 95,
   "metadata": {},
   "outputs": [],
   "source": [
    "df = df.groupby(['CUST_ID','PART_TRAN_TYPE','tx_cat']).agg({'TRAN_AMT':sum})"
   ]
  },
  {
   "cell_type": "code",
   "execution_count": 97,
   "metadata": {},
   "outputs": [],
   "source": [
    "df = df.reset_index()"
   ]
  },
  {
   "cell_type": "code",
   "execution_count": 106,
   "metadata": {},
   "outputs": [
    {
     "data": {
      "text/plain": [
       "2952371416"
      ]
     },
     "execution_count": 106,
     "metadata": {},
     "output_type": "execute_result"
    }
   ],
   "source": [
    "sys.getsizeof(df)"
   ]
  },
  {
   "cell_type": "code",
   "execution_count": 105,
   "metadata": {},
   "outputs": [],
   "source": [
    "df = pd.concat([df,df],axis=0)"
   ]
  },
  {
   "cell_type": "code",
   "execution_count": 107,
   "metadata": {},
   "outputs": [
    {
     "name": "stdout",
     "output_type": "stream",
     "text": [
      "CPU times: user 46.5 s, sys: 532 ms, total: 47.1 s\n",
      "Wall time: 47.1 s\n"
     ]
    }
   ],
   "source": [
    "%%time\n",
    "df.to_csv('test.csv')"
   ]
  },
  {
   "cell_type": "code",
   "execution_count": 82,
   "metadata": {},
   "outputs": [],
   "source": [
    "def setTxCode(x):\n",
    "    if ('SLIP' in x.TRAN_PARTICULAR):\n",
    "        y = 'S'\n",
    "    elif (('CPAY' in x.REMARKS) or (('SALAR' in x.TRAN_PARTICULAR) and (x.REMARKS == 'SLIP'))):\n",
    "        y = 'Z'\n",
    "    else :\n",
    "        y = 'O'\n",
    "    return y"
   ]
  },
  {
   "cell_type": "code",
   "execution_count": 75,
   "metadata": {},
   "outputs": [],
   "source": [
    "que='select a.cust_id,a.tran_amt,a.tran_particular,g.foracid,h.remarks,a.part_tran_type \\\n",
    "from tbaadm.htd a \\\n",
    "inner join tbaadm.hth h on a.tran_id=h.tran_id and a.tran_date=h.tran_date \\\n",
    "inner join tbaadm.gam g on a.acid=g.acid \\\n",
    "where a.tran_date>=add_months(trunc(sysdate,\\'mm\\'),-1) \\\n",
    "and a.tran_date<=LAST_DAY(add_months(trunc(sysdate,\\'mm\\'),-1)) \\\n",
    "and a.cust_id is not null and a.del_flg != \\'Y\\' AND a.pstd_flg = \\'Y\\' AND h.del_flg != \\'Y\\' \\\n",
    "and to_date(a.tran_date)={0}'"
   ]
  },
  {
   "cell_type": "code",
   "execution_count": null,
   "metadata": {},
   "outputs": [],
   "source": [
    "import calendar\n",
    "import datetime\n",
    "\n",
    "now=datetime.datetime.now()\n",
    "days=calendar.monthrange(now.year, now.month)[1]\n",
    "\n",
    "df=pd.DataFrame\n",
    "\n",
    "for x in range(days):\n",
    "    now=datetime.datetime.now() \n",
    "    y=now.year\n",
    "    m=now.month\n",
    "    d=x\n",
    "    date=datetime.datetime(year=y, month=m, day=x)\n",
    "    dfTemp= pd.read_sql(que.format(date),con=connection_182)\n",
    "\n",
    "    dfTemp=dfTemp.fillna({'TRAN_PARTICULAR':'NA','REMARKS':'NA'})\n",
    "    dfTemp['tx_cat'] = dfTemp.apply(setTxCode,axis=1)\n",
    "    \n",
    "    dfTemp = dfTemp[(dfTemp.FORACID.str[:1] == '0')|(dfTemp.FORACID.str[:1] == '1')]\n",
    "    dfTemp = dfTemp[['CUST_ID','TRAN_AMT','PART_TRAN_TYPE','tx_cat']] \n",
    "    dfTemp = dfTemp.groupby(['CUST_ID','PART_TRAN_TYPE','tx_cat']).agg({'TRAN_AMT':sum})\n",
    "    df = df.reset_index()\n",
    "    \n",
    "    df=pd.concat(df,dfTemp,axis=0)\n",
    "    \n",
    "\n",
    "\n",
    "df # dailyTx\n",
    "df = vdf and df inner join\n",
    "cdf concat df"
   ]
  },
  {
   "cell_type": "code",
   "execution_count": null,
   "metadata": {},
   "outputs": [],
   "source": []
  },
  {
   "cell_type": "code",
   "execution_count": null,
   "metadata": {},
   "outputs": [],
   "source": []
  }
 ],
 "metadata": {
  "kernelspec": {
   "display_name": "Python 3",
   "language": "python",
   "name": "python3"
  },
  "language_info": {
   "codemirror_mode": {
    "name": "ipython",
    "version": 3
   },
   "file_extension": ".py",
   "mimetype": "text/x-python",
   "name": "python",
   "nbconvert_exporter": "python",
   "pygments_lexer": "ipython3",
   "version": "3.6.4"
  }
 },
 "nbformat": 4,
 "nbformat_minor": 2
}
